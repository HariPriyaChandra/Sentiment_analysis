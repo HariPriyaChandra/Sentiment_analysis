{
 "cells": [
  {
   "cell_type": "code",
   "execution_count": 1,
   "id": "2ee4b6de",
   "metadata": {
    "colab": {
     "base_uri": "https://localhost:8080/"
    },
    "id": "2ee4b6de",
    "outputId": "86049b32-2b33-4acd-a0d5-dd4c6ed2044f"
   },
   "outputs": [
    {
     "name": "stdout",
     "output_type": "stream",
     "text": [
      "Requirement already satisfied: scikit-plot in /anaconda/envs/azureml_py36/lib/python3.6/site-packages (0.3.7)\r\n",
      "Requirement already satisfied: scikit-learn>=0.18 in /anaconda/envs/azureml_py36/lib/python3.6/site-packages (from scikit-plot) (0.22.2.post1)\r\n",
      "Requirement already satisfied: joblib>=0.10 in /anaconda/envs/azureml_py36/lib/python3.6/site-packages (from scikit-plot) (0.14.1)\r\n",
      "Requirement already satisfied: scipy>=0.9 in /anaconda/envs/azureml_py36/lib/python3.6/site-packages (from scikit-plot) (1.5.2)\r\n",
      "Requirement already satisfied: matplotlib>=1.4.0 in /anaconda/envs/azureml_py36/lib/python3.6/site-packages (from scikit-plot) (3.2.1)\r\n",
      "Requirement already satisfied: numpy>=1.11.0 in /anaconda/envs/azureml_py36/lib/python3.6/site-packages (from scikit-learn>=0.18->scikit-plot) (1.18.5)\r\n",
      "Requirement already satisfied: pyparsing!=2.0.4,!=2.1.2,!=2.1.6,>=2.0.1 in /anaconda/envs/azureml_py36/lib/python3.6/site-packages (from matplotlib>=1.4.0->scikit-plot) (2.4.7)\r\n",
      "Requirement already satisfied: kiwisolver>=1.0.1 in /anaconda/envs/azureml_py36/lib/python3.6/site-packages (from matplotlib>=1.4.0->scikit-plot) (1.3.1)\r\n",
      "Requirement already satisfied: cycler>=0.10 in /anaconda/envs/azureml_py36/lib/python3.6/site-packages (from matplotlib>=1.4.0->scikit-plot) (0.10.0)\r\n",
      "Requirement already satisfied: python-dateutil>=2.1 in /anaconda/envs/azureml_py36/lib/python3.6/site-packages (from matplotlib>=1.4.0->scikit-plot) (2.8.2)\r\n",
      "Requirement already satisfied: six in /anaconda/envs/azureml_py36/lib/python3.6/site-packages (from cycler>=0.10->matplotlib>=1.4.0->scikit-plot) (1.16.0)\r\n"
     ]
    }
   ],
   "source": [
    "%matplotlib inline\n",
    "import numpy as np\n",
    "import pandas as pd\n",
    "import nltk\n",
    "\n",
    "\n",
    "!pip install scikit-plot\n",
    "\n",
    "\n",
    "import re\n",
    "import string\n",
    "\n",
    "import seaborn as sns\n",
    "import matplotlib.pyplot as plt\n",
    "import scikitplot as skplt\n",
    "\n",
    "from sklearn.naive_bayes import MultinomialNB,BernoulliNB\n",
    "from sklearn.linear_model import LogisticRegression\n",
    "from sklearn.pipeline import make_pipeline,Pipeline\n",
    "from sklearn.preprocessing import StandardScaler\n",
    "from sklearn.svm import LinearSVC\n",
    "from sklearn import metrics\n",
    "from sklearn.feature_extraction.text import TfidfVectorizer\n",
    "from sklearn.metrics import confusion_matrix,classification_report,accuracy_score\n",
    "from sklearn.tree import DecisionTreeClassifier\n",
    "from sklearn.ensemble import RandomForestClassifier\n",
    "\n",
    "import gensim\n",
    "from gensim.models.doc2vec import Doc2Vec,TaggedDocument\n",
    "\n",
    "from nltk.corpus import stopwords"
   ]
  },
  {
   "cell_type": "markdown",
   "id": "0f184681",
   "metadata": {
    "id": "0f184681"
   },
   "source": [
    "### Data Set-Up"
   ]
  },
  {
   "cell_type": "code",
   "execution_count": 2,
   "id": "klG8FoukUXX8",
   "metadata": {
    "id": "klG8FoukUXX8"
   },
   "outputs": [
    {
     "data": {
      "text/plain": [
       "(3599999, 3)"
      ]
     },
     "execution_count": 2,
     "metadata": {},
     "output_type": "execute_result"
    }
   ],
   "source": [
    "X_train = pd.read_csv('X_train.csv')\n",
    "X_test = pd.read_csv('X_test.csv')\n",
    "Y_train = pd.read_csv('Y_train.csv')\n",
    "Y_test = pd.read_csv('Y_test.csv')\n",
    "X_train.shape"
   ]
  },
  {
   "cell_type": "markdown",
   "id": "5dqIu7p-Zpwc",
   "metadata": {
    "id": "5dqIu7p-Zpwc"
   },
   "source": [
    "### TF-IDF vectorization"
   ]
  },
  {
   "cell_type": "code",
   "execution_count": 3,
   "id": "MjcuCAnrVo28",
   "metadata": {
    "id": "MjcuCAnrVo28"
   },
   "outputs": [],
   "source": [
    "from sklearn.feature_extraction.text import TfidfVectorizer\n",
    "tfidf_vectoriser = TfidfVectorizer()\n"
   ]
  },
  {
   "cell_type": "code",
   "execution_count": 4,
   "id": "ua-mTApCYA_2",
   "metadata": {
    "colab": {
     "base_uri": "https://localhost:8080/"
    },
    "id": "ua-mTApCYA_2",
    "outputId": "d8fcc635-073c-45aa-a7a0-88d721719f6d"
   },
   "outputs": [
    {
     "data": {
      "text/plain": [
       "Unnamed: 0    0\n",
       "title         0\n",
       "text          0\n",
       "dtype: int64"
      ]
     },
     "execution_count": 4,
     "metadata": {},
     "output_type": "execute_result"
    }
   ],
   "source": [
    "X_train = X_train.fillna(X_train.mode().iloc[0])\n",
    "X_train.isnull().sum()"
   ]
  },
  {
   "cell_type": "code",
   "execution_count": 5,
   "id": "Ubd9IyWdYLN0",
   "metadata": {
    "colab": {
     "base_uri": "https://localhost:8080/"
    },
    "id": "Ubd9IyWdYLN0",
    "outputId": "2b13132c-eec2-454d-e694-12fb31fa1517"
   },
   "outputs": [
    {
     "data": {
      "text/plain": [
       "Unnamed: 0    0\n",
       "title         0\n",
       "text          0\n",
       "dtype: int64"
      ]
     },
     "execution_count": 5,
     "metadata": {},
     "output_type": "execute_result"
    }
   ],
   "source": [
    "X_test = X_test.fillna(X_test.mode().iloc[0])\n",
    "X_test.isnull().sum()"
   ]
  },
  {
   "cell_type": "code",
   "execution_count": 6,
   "id": "Tvh6n0wsVVLc",
   "metadata": {
    "colab": {
     "base_uri": "https://localhost:8080/"
    },
    "id": "Tvh6n0wsVVLc",
    "outputId": "ec780da3-f549-4705-ae99-967e7aad4df9"
   },
   "outputs": [
    {
     "data": {
      "text/plain": [
       "((3599999, 2198346), (399999, 2198346))"
      ]
     },
     "execution_count": 6,
     "metadata": {},
     "output_type": "execute_result"
    }
   ],
   "source": [
    "tfidf_vectoriser.fit(X_train['text'])\n",
    "X_train_tf = tfidf_vectoriser.transform(X_train['text'])\n",
    "X_test_tf = tfidf_vectoriser.transform(X_test['text'])\n",
    "X_train_tf.shape, X_test_tf.shape                        "
   ]
  },
  {
   "cell_type": "code",
   "execution_count": 7,
   "id": "YOOkNPVrbe-z",
   "metadata": {
    "id": "YOOkNPVrbe-z"
   },
   "outputs": [],
   "source": [
    "Y_train = Y_train.drop(\"Unnamed: 0\", axis=1)"
   ]
  },
  {
   "cell_type": "code",
   "execution_count": 8,
   "id": "ec2f6d4c",
   "metadata": {},
   "outputs": [
    {
     "name": "stdout",
     "output_type": "stream",
     "text": [
      "No. of Features:2198346\n"
     ]
    }
   ],
   "source": [
    "print(f'No. of Features:{X_train_tf.shape[1]}')"
   ]
  },
  {
   "cell_type": "markdown",
   "id": "b20f7c25",
   "metadata": {
    "id": "b20f7c25"
   },
   "source": [
    "### Naive Bayes"
   ]
  },
  {
   "cell_type": "code",
   "execution_count": 9,
   "id": "1e6ea12d",
   "metadata": {
    "colab": {
     "base_uri": "https://localhost:8080/"
    },
    "id": "1e6ea12d",
    "outputId": "2bd08e11-4d2b-4a3a-d764-30c9a90040ef"
   },
   "outputs": [
    {
     "data": {
      "text/plain": [
       "MultinomialNB(alpha=1.0, class_prior=None, fit_prior=True)"
      ]
     },
     "execution_count": 9,
     "metadata": {},
     "output_type": "execute_result"
    }
   ],
   "source": [
    "#MultinomialNB\n",
    "# Build the classifier\n",
    "multinomial_nb_model = MultinomialNB()\n",
    "\n",
    "#  Train the classifier\n",
    "multinomial_nb_model.fit(X_train_tf, np.ravel(Y_train))"
   ]
  },
  {
   "cell_type": "code",
   "execution_count": 10,
   "id": "19a42525",
   "metadata": {
    "colab": {
     "base_uri": "https://localhost:8080/"
    },
    "id": "19a42525",
    "outputId": "f9a933ce-cebd-4047-cfda-e308b282be01"
   },
   "outputs": [
    {
     "name": "stderr",
     "output_type": "stream",
     "text": [
      "/anaconda/envs/azureml_py36/lib/python3.6/site-packages/sklearn/utils/validation.py:760: DataConversionWarning: A column-vector y was passed when a 1d array was expected. Please change the shape of y to (n_samples, ), for example using ravel().\n",
      "  y = column_or_1d(y, warn=True)\n"
     ]
    },
    {
     "data": {
      "text/plain": [
       "BernoulliNB(alpha=1.0, binarize=0.0, class_prior=None, fit_prior=True)"
      ]
     },
     "execution_count": 10,
     "metadata": {},
     "output_type": "execute_result"
    }
   ],
   "source": [
    "#BernoulliNB\n",
    "# Build the classifier\n",
    "bernoulli_nb_model = BernoulliNB()\n",
    "\n",
    "#  Train the classifier\n",
    "bernoulli_nb_model.fit(X_train_tf, Y_train)"
   ]
  },
  {
   "cell_type": "markdown",
   "id": "1fb22033",
   "metadata": {
    "id": "1fb22033"
   },
   "source": [
    "### Logistic Regression"
   ]
  },
  {
   "cell_type": "code",
   "execution_count": 11,
   "id": "5ab35a7f",
   "metadata": {
    "colab": {
     "base_uri": "https://localhost:8080/"
    },
    "id": "5ab35a7f",
    "outputId": "f287bfa3-5be9-4214-8ae4-d449d4abaf8f"
   },
   "outputs": [
    {
     "name": "stderr",
     "output_type": "stream",
     "text": [
      "/anaconda/envs/azureml_py36/lib/python3.6/site-packages/sklearn/utils/validation.py:760: DataConversionWarning: A column-vector y was passed when a 1d array was expected. Please change the shape of y to (n_samples, ), for example using ravel().\n",
      "  y = column_or_1d(y, warn=True)\n"
     ]
    },
    {
     "data": {
      "text/plain": [
       "Pipeline(memory=None,\n",
       "         steps=[('standardscaler',\n",
       "                 StandardScaler(copy=True, with_mean=False, with_std=True)),\n",
       "                ('logisticregression',\n",
       "                 LogisticRegression(C=1.0, class_weight=None, dual=False,\n",
       "                                    fit_intercept=True, intercept_scaling=1,\n",
       "                                    l1_ratio=None, max_iter=1000,\n",
       "                                    multi_class='auto', n_jobs=None,\n",
       "                                    penalty='l2', random_state=42,\n",
       "                                    solver='lbfgs', tol=0.0001, verbose=0,\n",
       "                                    warm_start=False))],\n",
       "         verbose=False)"
      ]
     },
     "execution_count": 11,
     "metadata": {},
     "output_type": "execute_result"
    }
   ],
   "source": [
    "pipe = Pipeline([('standardscaler', StandardScaler(with_mean=False)),\n",
    "                 ('logisticregression', LogisticRegression(random_state=42,solver='lbfgs', max_iter=1000))])\n",
    "pipe.fit(X_train_tf, Y_train)"
   ]
  },
  {
   "cell_type": "markdown",
   "id": "042b308c",
   "metadata": {
    "id": "042b308c"
   },
   "source": [
    "### Linear SVC"
   ]
  },
  {
   "cell_type": "code",
   "execution_count": 13,
   "id": "27645b80",
   "metadata": {
    "colab": {
     "base_uri": "https://localhost:8080/"
    },
    "id": "27645b80",
    "outputId": "b7d959ef-8d34-4a67-e484-4440ebc7e921"
   },
   "outputs": [
    {
     "name": "stderr",
     "output_type": "stream",
     "text": [
      "/anaconda/envs/azureml_py36/lib/python3.6/site-packages/sklearn/utils/validation.py:760: DataConversionWarning: A column-vector y was passed when a 1d array was expected. Please change the shape of y to (n_samples, ), for example using ravel().\n",
      "  y = column_or_1d(y, warn=True)\n"
     ]
    },
    {
     "data": {
      "text/plain": [
       "LinearSVC(C=1.0, class_weight=None, dual=True, fit_intercept=True,\n",
       "          intercept_scaling=1, loss='squared_hinge', max_iter=1000,\n",
       "          multi_class='ovr', penalty='l2', random_state=None, tol=0.0001,\n",
       "          verbose=0)"
      ]
     },
     "execution_count": 13,
     "metadata": {},
     "output_type": "execute_result"
    }
   ],
   "source": [
    "linear_svc_model = LinearSVC()\n",
    "linear_svc_model.fit(X_train_tf, Y_train)"
   ]
  },
  {
   "cell_type": "markdown",
   "id": "7ERtl-xxfgqf",
   "metadata": {
    "id": "7ERtl-xxfgqf"
   },
   "source": [
    "### Decision Trees"
   ]
  },
  {
   "cell_type": "code",
   "execution_count": null,
   "id": "D9dC-kjXei0L",
   "metadata": {
    "colab": {
     "base_uri": "https://localhost:8080/",
     "height": 197
    },
    "id": "D9dC-kjXei0L",
    "outputId": "fac6a232-0c27-4f70-80a6-3c4633f662f7"
   },
   "outputs": [],
   "source": [
    "from sklearn.tree import DecisionTreeClassifier\n",
    "model_dt = DecisionTreeClassifier()\n",
    "model_dt.fit(X_train_tf, Y_train) "
   ]
  },
  {
   "cell_type": "markdown",
   "id": "MOAtIH1ufm92",
   "metadata": {
    "id": "MOAtIH1ufm92"
   },
   "source": [
    "### Random Forest"
   ]
  },
  {
   "cell_type": "code",
   "execution_count": null,
   "id": "oiqJnk_qf_Vk",
   "metadata": {
    "id": "oiqJnk_qf_Vk"
   },
   "outputs": [],
   "source": [
    "from sklearn.ensemble import RandomForestClassifier\n",
    "model_rf = RandomForestClassifier()\n",
    "model_rf.fit(X_train_tf, Y_train) \n"
   ]
  },
  {
   "cell_type": "markdown",
   "id": "5e8f7e39",
   "metadata": {
    "id": "5e8f7e39"
   },
   "source": [
    "### Performance Evaluation"
   ]
  },
  {
   "cell_type": "code",
   "execution_count": null,
   "id": "75fc5af0",
   "metadata": {
    "id": "75fc5af0"
   },
   "outputs": [],
   "source": [
    "def report(model,X,Y,modelName,train=True):\n",
    "    YPred = model.predict(X)\n",
    "    if train:\n",
    "        print(f\"{modelName} Training Data Result:\\n================================================\")\n",
    "    else:\n",
    "        print(f\"{modelName} Test Data Result:\\n================================================\")\n",
    "    print(f\"Accuracy Score: {accuracy_score(Y, YPred) * 100:.2f}%\")\n",
    "    print(\"_______________________________________________\")\n",
    "    print(f\"Confusion Matrix: \\n {confusion_matrix(Y, YPred)}\\n\")\n",
    "    print(\"_______________________________________________\")\n",
    "    clf_report = pd.DataFrame(classification_report(Y, YPred, output_dict=True))\n",
    "    print(f\"CLASSIFICATION REPORT:\\n{clf_report}\")\n",
    "    skplt.metrics.plot_confusion_matrix(Y, YPred)"
   ]
  },
  {
   "cell_type": "code",
   "execution_count": null,
   "id": "c35a77ea",
   "metadata": {
    "id": "c35a77ea",
    "outputId": "39cf9a89-101b-45a0-f52f-9ecf28d4683c"
   },
   "outputs": [],
   "source": [
    "report(multinomial_nb_model,X_train_tf,Y_train,'Multinomial NB Model')"
   ]
  },
  {
   "cell_type": "code",
   "execution_count": null,
   "id": "c4593eb1",
   "metadata": {
    "id": "c4593eb1",
    "outputId": "686725dd-c8d9-4810-ce3a-89e3f2c85120"
   },
   "outputs": [],
   "source": [
    "report(bernoulli_nb_model,X_train_tf,Y_train,'Bernoulli NB Model')"
   ]
  },
  {
   "cell_type": "code",
   "execution_count": null,
   "id": "238c4321",
   "metadata": {
    "id": "238c4321",
    "outputId": "dddfd038-6532-485c-af11-64a0732a1e45"
   },
   "outputs": [],
   "source": [
    "report(pipe,X_train_tf,Y_train,'Logistic regression Model')"
   ]
  },
  {
   "cell_type": "code",
   "execution_count": null,
   "id": "181b7647",
   "metadata": {
    "id": "181b7647"
   },
   "outputs": [],
   "source": [
    "report(linear_svc_model,X_train_tf,Y_train,'Linear SVC Model')"
   ]
  },
  {
   "cell_type": "code",
   "execution_count": null,
   "id": "m7K4MR3njMCE",
   "metadata": {
    "id": "m7K4MR3njMCE"
   },
   "outputs": [],
   "source": [
    "report(model_dt,X_train_tf,Y_train,'Decision trees Model')"
   ]
  },
  {
   "cell_type": "code",
   "execution_count": null,
   "id": "EbRlcekXjbQ4",
   "metadata": {
    "id": "EbRlcekXjbQ4"
   },
   "outputs": [],
   "source": [
    "report(model_rf,X_train_tf,Y_train,'Random forest Model')"
   ]
  },
  {
   "cell_type": "markdown",
   "id": "29aeaae8",
   "metadata": {
    "id": "29aeaae8"
   },
   "source": [
    "### Test Data "
   ]
  },
  {
   "cell_type": "code",
   "execution_count": null,
   "id": "47a8e166",
   "metadata": {
    "id": "47a8e166",
    "outputId": "da3805dd-ca63-422a-899b-e00865420ab1"
   },
   "outputs": [],
   "source": [
    "report(multinomial_nb_model,X_test_tf,Y_test,'Multinomial NB Model',False)"
   ]
  },
  {
   "cell_type": "code",
   "execution_count": null,
   "id": "4e1b90f8",
   "metadata": {
    "id": "4e1b90f8",
    "outputId": "24f15c1d-fac1-4a6d-c278-51d236a72fdf"
   },
   "outputs": [],
   "source": [
    "report(bernoulli_nb_model,X_test_tf,Y_test,'Bernoulli NB Model',False)"
   ]
  },
  {
   "cell_type": "code",
   "execution_count": null,
   "id": "ebcdbaf6",
   "metadata": {
    "id": "ebcdbaf6",
    "outputId": "178e64c3-abfe-4ecd-a4b9-4d3cd924c82a"
   },
   "outputs": [],
   "source": [
    "report(pipe,X_test_tf,Y_test,'Logistic NB Model',False)"
   ]
  },
  {
   "cell_type": "code",
   "execution_count": null,
   "id": "17274bf2",
   "metadata": {
    "id": "17274bf2"
   },
   "outputs": [],
   "source": [
    "report(linear_svc_model,X_test_tf,Y_test,'Linear SVC Model',False)"
   ]
  },
  {
   "cell_type": "code",
   "execution_count": null,
   "id": "w2GhCEsnrsOU",
   "metadata": {
    "id": "w2GhCEsnrsOU"
   },
   "outputs": [],
   "source": [
    "report(model_dt,X_test_tf,Y_test,'Decision trees Model')"
   ]
  },
  {
   "cell_type": "code",
   "execution_count": null,
   "id": "qZvuKDHqryVS",
   "metadata": {
    "id": "qZvuKDHqryVS"
   },
   "outputs": [],
   "source": [
    "report(model_rf,X_test_tf,Y_test,'Random Forest Model')"
   ]
  },
  {
   "cell_type": "markdown",
   "id": "857036f7",
   "metadata": {
    "id": "857036f7"
   },
   "source": [
    "### 2.Doc2Vev\n"
   ]
  },
  {
   "cell_type": "code",
   "execution_count": null,
   "id": "77478a5b",
   "metadata": {
    "id": "77478a5b"
   },
   "outputs": [],
   "source": [
    "#Lancaster Stemmer\n",
    "ls = nltk.LancasterStemmer()\n",
    "X_train['title'] = X_train['title'].apply(lambda x: \" \".join(ls.stem(x) for x in x.split()))\n",
    "X_train['text'] = X_train['text'].apply(lambda x: \" \".join(ls.stem(x) for x in x.split()))"
   ]
  },
  {
   "cell_type": "markdown",
   "id": "f70aa95e",
   "metadata": {
    "id": "f70aa95e"
   },
   "source": [
    "### Feature Extraction"
   ]
  },
  {
   "cell_type": "code",
   "execution_count": null,
   "id": "afb1c9e6",
   "metadata": {
    "id": "afb1c9e6"
   },
   "outputs": [],
   "source": [
    "def feature_extract(dataset):\n",
    "    data = dataset['title'] + ' ' + dataset['text']\n",
    "    data = [nltk.word_tokenize(l) for l in data]\n",
    "    tag_doc = [TaggedDocument(doc, [i]) for i, doc in enumerate(data)]\n",
    "    model = Doc2Vec(tag_doc)\n",
    "    return np.array([model.dv[i] for i in range(len(model.dv))])\n",
    "\n",
    "train_array = feature_extract(X_train)"
   ]
  },
  {
   "cell_type": "code",
   "execution_count": null,
   "id": "741f8e59",
   "metadata": {},
   "outputs": [],
   "source": [
    "print(f'No. of Features {train_array.shape[1]}')"
   ]
  },
  {
   "cell_type": "markdown",
   "id": "08da303b",
   "metadata": {
    "id": "08da303b"
   },
   "source": [
    "### Model Comparison - Decision Tree,Random Forest,Naive Bayes,Logistic Regression"
   ]
  },
  {
   "cell_type": "code",
   "execution_count": null,
   "id": "b7efc089",
   "metadata": {
    "id": "b7efc089",
    "outputId": "92b195d3-1719-4441-bedb-733813f027ec"
   },
   "outputs": [],
   "source": [
    "#BernoulliNB\n",
    "# Build the classifier\n",
    "bernoulli_nb_model = BernoulliNB()\n",
    "\n",
    "#  Train the classifier\n",
    "bernoulli_nb_model.fit(train_array, Y_train)"
   ]
  },
  {
   "cell_type": "code",
   "execution_count": null,
   "id": "d7196209",
   "metadata": {
    "id": "d7196209",
    "outputId": "70c95310-6d8a-4597-a89f-46af69c36257"
   },
   "outputs": [],
   "source": [
    "log_regg = LogisticRegression(random_state=42,solver='lbfgs', max_iter=1000)\n",
    "log_regg.fit(train_array, Y_train)"
   ]
  },
  {
   "cell_type": "code",
   "execution_count": null,
   "id": "zYrQCC2wtTZj",
   "metadata": {
    "id": "zYrQCC2wtTZj"
   },
   "outputs": [],
   "source": [
    "linear_svc_model = SVC(kernel='linear')\n",
    "linear_svc_model.fit(train_array, Y_train)"
   ]
  },
  {
   "cell_type": "code",
   "execution_count": null,
   "id": "5dcf5d81",
   "metadata": {
    "id": "5dcf5d81"
   },
   "outputs": [],
   "source": [
    "deci_tree = DecisionTreeClassifier(random_state=23,max_depth=15).fit(train_array,Y_train)"
   ]
  },
  {
   "cell_type": "code",
   "execution_count": null,
   "id": "17738046",
   "metadata": {
    "id": "17738046"
   },
   "outputs": [],
   "source": [
    "rand_forest = RandomForestClassifier(random_state=25,max_depth=10,n_jobs=-1).fit(train_array,Y_train)"
   ]
  },
  {
   "cell_type": "markdown",
   "id": "7a41167a",
   "metadata": {
    "id": "7a41167a"
   },
   "source": [
    "### Performance Evaluation"
   ]
  },
  {
   "cell_type": "markdown",
   "id": "aabe6488",
   "metadata": {
    "id": "aabe6488"
   },
   "source": [
    "### Training Data"
   ]
  },
  {
   "cell_type": "code",
   "execution_count": null,
   "id": "4b995ff6",
   "metadata": {
    "id": "4b995ff6",
    "outputId": "26ec7aff-c079-4fe9-ca1f-31915bd325e7"
   },
   "outputs": [],
   "source": [
    "report(bernoulli_nb_model,train_array,Y_train,'Bernoulli NB Model')"
   ]
  },
  {
   "cell_type": "code",
   "execution_count": null,
   "id": "29047945",
   "metadata": {
    "id": "29047945",
    "outputId": "a28bb045-1285-42eb-87d6-6420c4675fc0"
   },
   "outputs": [],
   "source": [
    "report(log_regg,train_array,Y_train,'Logistic Regression Model')"
   ]
  },
  {
   "cell_type": "code",
   "execution_count": null,
   "id": "WCg4jJQ2tp3j",
   "metadata": {
    "id": "WCg4jJQ2tp3j"
   },
   "outputs": [],
   "source": [
    "report(linear_svc_model,train_array,Y_test,'Linear SVC Model',False)"
   ]
  },
  {
   "cell_type": "code",
   "execution_count": null,
   "id": "b19dd075",
   "metadata": {
    "id": "b19dd075",
    "outputId": "f3629ab2-4b7b-455b-d585-7d243f2b28f8"
   },
   "outputs": [],
   "source": [
    "report(deci_tree,train_array,Y_train,'Decision Tree')"
   ]
  },
  {
   "cell_type": "code",
   "execution_count": null,
   "id": "4dddcbd8",
   "metadata": {
    "id": "4dddcbd8",
    "outputId": "b0c37599-930f-4ddc-dfea-4c209705a790"
   },
   "outputs": [],
   "source": [
    "report(rand_forest,train_array,Y_train,'Random Forest')"
   ]
  },
  {
   "cell_type": "markdown",
   "id": "11d79e27",
   "metadata": {
    "id": "11d79e27"
   },
   "source": [
    "### Test Data"
   ]
  },
  {
   "cell_type": "code",
   "execution_count": null,
   "id": "e1fbe440",
   "metadata": {
    "id": "e1fbe440"
   },
   "outputs": [],
   "source": [
    "\n",
    "test_array = feature_extract(X_test)"
   ]
  },
  {
   "cell_type": "code",
   "execution_count": null,
   "id": "0d0379bc",
   "metadata": {
    "id": "0d0379bc",
    "outputId": "bf7c18fd-0081-48f1-cf82-b8c162de6522"
   },
   "outputs": [],
   "source": [
    "report(bernoulli_nb_model,test_array,Y_test,'Bernoulli NB Model',False)"
   ]
  },
  {
   "cell_type": "code",
   "execution_count": null,
   "id": "c053d449",
   "metadata": {
    "id": "c053d449",
    "outputId": "42b39872-2da5-424e-d0ec-fe612cab9282"
   },
   "outputs": [],
   "source": [
    "report(log_regg,test_array,Y_test,'Logistic Regression Model',False)"
   ]
  },
  {
   "cell_type": "code",
   "execution_count": null,
   "id": "jsx676ICuJBx",
   "metadata": {
    "id": "jsx676ICuJBx"
   },
   "outputs": [],
   "source": [
    "report(linear_svc_model,test_array,Y_test,'Linear SVC Model',False)"
   ]
  },
  {
   "cell_type": "code",
   "execution_count": null,
   "id": "e92e7719",
   "metadata": {
    "id": "e92e7719",
    "outputId": "476f23c9-9210-4448-d668-9c842f3ecbcc"
   },
   "outputs": [],
   "source": [
    "report(deci_tree,test_array,Y_test,'Decision Tree',False)"
   ]
  },
  {
   "cell_type": "code",
   "execution_count": null,
   "id": "688a1478",
   "metadata": {
    "id": "688a1478",
    "outputId": "dbcd1422-f520-4f77-f8ae-4df098d74f5b",
    "scrolled": true
   },
   "outputs": [],
   "source": [
    "report(rand_forest,test_array,Y_test,'Random Forest',False)"
   ]
  }
 ],
 "metadata": {
  "accelerator": "GPU",
  "colab": {
   "collapsed_sections": [
    "b4e51f83",
    "7a41167a"
   ],
   "name": "Copy of Amazon_Review.ipynb",
   "provenance": []
  },
  "kernelspec": {
   "display_name": "Python 3",
   "language": "python",
   "name": "python3"
  },
  "language_info": {
   "codemirror_mode": {
    "name": "ipython",
    "version": 3
   },
   "file_extension": ".py",
   "mimetype": "text/x-python",
   "name": "python",
   "nbconvert_exporter": "python",
   "pygments_lexer": "ipython3",
   "version": "3.6.9"
  }
 },
 "nbformat": 4,
 "nbformat_minor": 5
}

{
 "cells": [
  {
   "cell_type": "code",
   "execution_count": 79,
   "id": "2ee4b6de",
   "metadata": {
    "colab": {
     "base_uri": "https://localhost:8080/"
    },
    "id": "2ee4b6de",
    "outputId": "86049b32-2b33-4acd-a0d5-dd4c6ed2044f"
   },
   "outputs": [
    {
     "name": "stdout",
     "output_type": "stream",
     "text": [
      "Requirement already satisfied: scikit-plot in /anaconda/envs/azureml_py36/lib/python3.6/site-packages (0.3.7)\n",
      "Requirement already satisfied: joblib>=0.10 in /anaconda/envs/azureml_py36/lib/python3.6/site-packages (from scikit-plot) (0.14.1)\n",
      "Requirement already satisfied: matplotlib>=1.4.0 in /anaconda/envs/azureml_py36/lib/python3.6/site-packages (from scikit-plot) (3.2.1)\n",
      "Requirement already satisfied: scikit-learn>=0.18 in /anaconda/envs/azureml_py36/lib/python3.6/site-packages (from scikit-plot) (0.22.2.post1)\n",
      "Requirement already satisfied: scipy>=0.9 in /anaconda/envs/azureml_py36/lib/python3.6/site-packages (from scikit-plot) (1.5.2)\n",
      "Requirement already satisfied: numpy>=1.11 in /anaconda/envs/azureml_py36/lib/python3.6/site-packages (from matplotlib>=1.4.0->scikit-plot) (1.18.5)\n",
      "Requirement already satisfied: cycler>=0.10 in /anaconda/envs/azureml_py36/lib/python3.6/site-packages (from matplotlib>=1.4.0->scikit-plot) (0.10.0)\n",
      "Requirement already satisfied: python-dateutil>=2.1 in /anaconda/envs/azureml_py36/lib/python3.6/site-packages (from matplotlib>=1.4.0->scikit-plot) (2.8.2)\n",
      "Requirement already satisfied: pyparsing!=2.0.4,!=2.1.2,!=2.1.6,>=2.0.1 in /anaconda/envs/azureml_py36/lib/python3.6/site-packages (from matplotlib>=1.4.0->scikit-plot) (2.4.7)\n",
      "Requirement already satisfied: kiwisolver>=1.0.1 in /anaconda/envs/azureml_py36/lib/python3.6/site-packages (from matplotlib>=1.4.0->scikit-plot) (1.3.1)\n",
      "Requirement already satisfied: six in /anaconda/envs/azureml_py36/lib/python3.6/site-packages (from cycler>=0.10->matplotlib>=1.4.0->scikit-plot) (1.16.0)\n"
     ]
    }
   ],
   "source": [
    "%matplotlib inline\n",
    "import numpy as np\n",
    "import pandas as pd\n",
    "import nltk\n",
    "\n",
    "\n",
    "!pip install scikit-plot\n",
    "\n",
    "\n",
    "import re\n",
    "import string\n",
    "\n",
    "import seaborn as sns\n",
    "import matplotlib.pyplot as plt\n",
    "import scikitplot as skplt\n",
    "\n",
    "from sklearn.naive_bayes import MultinomialNB,BernoulliNB\n",
    "from sklearn.linear_model import LogisticRegression\n",
    "from sklearn.pipeline import make_pipeline,Pipeline\n",
    "from sklearn.preprocessing import StandardScaler\n",
    "from sklearn.svm import LinearSVC\n",
    "from sklearn import metrics\n",
    "from sklearn.feature_extraction.text import TfidfVectorizer\n",
    "from sklearn.metrics import confusion_matrix,classification_report,accuracy_score\n",
    "from sklearn.tree import DecisionTreeClassifier\n",
    "from sklearn.ensemble import RandomForestClassifier\n",
    "\n",
    "import gensim\n",
    "from gensim.models.doc2vec import Doc2Vec,TaggedDocument\n",
    "\n",
    "from nltk.corpus import stopwords"
   ]
  },
  {
   "cell_type": "markdown",
   "id": "0f184681",
   "metadata": {
    "id": "0f184681"
   },
   "source": [
    "### Data Set-Up"
   ]
  },
  {
   "cell_type": "code",
   "execution_count": 38,
   "id": "klG8FoukUXX8",
   "metadata": {
    "id": "klG8FoukUXX8"
   },
   "outputs": [
    {
     "data": {
      "text/plain": [
       "(3599999, 3)"
      ]
     },
     "execution_count": 38,
     "metadata": {},
     "output_type": "execute_result"
    }
   ],
   "source": [
    "X_train = pd.read_csv('X_train.csv')\n",
    "X_test = pd.read_csv('X_test.csv')\n",
    "Y_train = pd.read_csv('Y_train.csv')\n",
    "Y_test = pd.read_csv('Y_test.csv')\n",
    "X_train.shape"
   ]
  },
  {
   "cell_type": "markdown",
   "id": "5dqIu7p-Zpwc",
   "metadata": {
    "id": "5dqIu7p-Zpwc"
   },
   "source": [
    "### TF-IDF vectorization"
   ]
  },
  {
   "cell_type": "code",
   "execution_count": 5,
   "id": "MjcuCAnrVo28",
   "metadata": {
    "id": "MjcuCAnrVo28"
   },
   "outputs": [],
   "source": [
    "from sklearn.feature_extraction.text import TfidfVectorizer\n",
    "tfidf_vectoriser = TfidfVectorizer()\n"
   ]
  },
  {
   "cell_type": "code",
   "execution_count": 6,
   "id": "ua-mTApCYA_2",
   "metadata": {
    "colab": {
     "base_uri": "https://localhost:8080/"
    },
    "id": "ua-mTApCYA_2",
    "outputId": "d8fcc635-073c-45aa-a7a0-88d721719f6d"
   },
   "outputs": [
    {
     "data": {
      "text/plain": [
       "Unnamed: 0    0\n",
       "title         0\n",
       "text          0\n",
       "dtype: int64"
      ]
     },
     "execution_count": 6,
     "metadata": {},
     "output_type": "execute_result"
    }
   ],
   "source": [
    "X_train = X_train.fillna(X_train.mode().iloc[0])\n",
    "X_train.isnull().sum()"
   ]
  },
  {
   "cell_type": "code",
   "execution_count": 7,
   "id": "Ubd9IyWdYLN0",
   "metadata": {
    "colab": {
     "base_uri": "https://localhost:8080/"
    },
    "id": "Ubd9IyWdYLN0",
    "outputId": "2b13132c-eec2-454d-e694-12fb31fa1517"
   },
   "outputs": [
    {
     "data": {
      "text/plain": [
       "Unnamed: 0    0\n",
       "title         0\n",
       "text          0\n",
       "dtype: int64"
      ]
     },
     "execution_count": 7,
     "metadata": {},
     "output_type": "execute_result"
    }
   ],
   "source": [
    "X_test = X_test.fillna(X_test.mode().iloc[0])\n",
    "X_test.isnull().sum()"
   ]
  },
  {
   "cell_type": "code",
   "execution_count": 8,
   "id": "Tvh6n0wsVVLc",
   "metadata": {
    "colab": {
     "base_uri": "https://localhost:8080/"
    },
    "id": "Tvh6n0wsVVLc",
    "outputId": "ec780da3-f549-4705-ae99-967e7aad4df9"
   },
   "outputs": [
    {
     "data": {
      "text/plain": [
       "((3599999, 2198346), (399999, 2198346))"
      ]
     },
     "execution_count": 8,
     "metadata": {},
     "output_type": "execute_result"
    }
   ],
   "source": [
    "tfidf_vectoriser.fit(X_train['text'])\n",
    "X_train_tf = tfidf_vectoriser.transform(X_train['text'])\n",
    "X_test_tf = tfidf_vectoriser.transform(X_test['text'])\n",
    "X_train_tf.shape, X_test_tf.shape                        "
   ]
  },
  {
   "cell_type": "code",
   "execution_count": 39,
   "id": "YOOkNPVrbe-z",
   "metadata": {
    "id": "YOOkNPVrbe-z"
   },
   "outputs": [],
   "source": [
    "Y_train = Y_train.drop(\"Unnamed: 0\", axis=1)\n"
   ]
  },
  {
   "cell_type": "code",
   "execution_count": 40,
   "id": "0c59d88d",
   "metadata": {},
   "outputs": [],
   "source": [
    "Y_test = Y_test.drop(\"Unnamed: 0\", axis=1)\n"
   ]
  },
  {
   "cell_type": "code",
   "execution_count": 10,
   "id": "ec2f6d4c",
   "metadata": {},
   "outputs": [
    {
     "name": "stdout",
     "output_type": "stream",
     "text": [
      "No. of Features:2198346\n"
     ]
    }
   ],
   "source": [
    "print(f'No. of Features:{X_train_tf.shape[1]}')"
   ]
  },
  {
   "cell_type": "markdown",
   "id": "b20f7c25",
   "metadata": {
    "id": "b20f7c25"
   },
   "source": [
    "### Naive Bayes"
   ]
  },
  {
   "cell_type": "code",
   "execution_count": 11,
   "id": "1e6ea12d",
   "metadata": {
    "colab": {
     "base_uri": "https://localhost:8080/"
    },
    "id": "1e6ea12d",
    "outputId": "2bd08e11-4d2b-4a3a-d764-30c9a90040ef"
   },
   "outputs": [
    {
     "data": {
      "text/plain": [
       "MultinomialNB(alpha=1.0, class_prior=None, fit_prior=True)"
      ]
     },
     "execution_count": 11,
     "metadata": {},
     "output_type": "execute_result"
    }
   ],
   "source": [
    "#MultinomialNB\n",
    "# Build the classifier\n",
    "multinomial_nb_model = MultinomialNB()\n",
    "\n",
    "#  Train the classifier\n",
    "multinomial_nb_model.fit(X_train_tf, np.ravel(Y_train))"
   ]
  },
  {
   "cell_type": "code",
   "execution_count": 12,
   "id": "19a42525",
   "metadata": {
    "colab": {
     "base_uri": "https://localhost:8080/"
    },
    "id": "19a42525",
    "outputId": "f9a933ce-cebd-4047-cfda-e308b282be01"
   },
   "outputs": [
    {
     "name": "stderr",
     "output_type": "stream",
     "text": [
      "/anaconda/envs/azureml_py36/lib/python3.6/site-packages/sklearn/utils/validation.py:760: DataConversionWarning: A column-vector y was passed when a 1d array was expected. Please change the shape of y to (n_samples, ), for example using ravel().\n",
      "  y = column_or_1d(y, warn=True)\n"
     ]
    },
    {
     "data": {
      "text/plain": [
       "BernoulliNB(alpha=1.0, binarize=0.0, class_prior=None, fit_prior=True)"
      ]
     },
     "execution_count": 12,
     "metadata": {},
     "output_type": "execute_result"
    }
   ],
   "source": [
    "#BernoulliNB\n",
    "# Build the classifier\n",
    "bernoulli_nb_model = BernoulliNB()\n",
    "\n",
    "#  Train the classifier\n",
    "bernoulli_nb_model.fit(X_train_tf, Y_train)"
   ]
  },
  {
   "cell_type": "markdown",
   "id": "1fb22033",
   "metadata": {
    "id": "1fb22033"
   },
   "source": [
    "### Logistic Regression"
   ]
  },
  {
   "cell_type": "code",
   "execution_count": 13,
   "id": "5ab35a7f",
   "metadata": {
    "colab": {
     "base_uri": "https://localhost:8080/"
    },
    "id": "5ab35a7f",
    "outputId": "f287bfa3-5be9-4214-8ae4-d449d4abaf8f"
   },
   "outputs": [
    {
     "name": "stderr",
     "output_type": "stream",
     "text": [
      "/anaconda/envs/azureml_py36/lib/python3.6/site-packages/sklearn/utils/validation.py:760: DataConversionWarning: A column-vector y was passed when a 1d array was expected. Please change the shape of y to (n_samples, ), for example using ravel().\n",
      "  y = column_or_1d(y, warn=True)\n"
     ]
    },
    {
     "data": {
      "text/plain": [
       "Pipeline(memory=None,\n",
       "         steps=[('standardscaler',\n",
       "                 StandardScaler(copy=True, with_mean=False, with_std=True)),\n",
       "                ('logisticregression',\n",
       "                 LogisticRegression(C=1.0, class_weight=None, dual=False,\n",
       "                                    fit_intercept=True, intercept_scaling=1,\n",
       "                                    l1_ratio=None, max_iter=1000,\n",
       "                                    multi_class='auto', n_jobs=None,\n",
       "                                    penalty='l2', random_state=42,\n",
       "                                    solver='lbfgs', tol=0.0001, verbose=0,\n",
       "                                    warm_start=False))],\n",
       "         verbose=False)"
      ]
     },
     "execution_count": 13,
     "metadata": {},
     "output_type": "execute_result"
    }
   ],
   "source": [
    "pipe = Pipeline([('standardscaler', StandardScaler(with_mean=False)),\n",
    "                 ('logisticregression', LogisticRegression(random_state=42,solver='lbfgs', max_iter=1000))])\n",
    "pipe.fit(X_train_tf, Y_train)"
   ]
  },
  {
   "cell_type": "markdown",
   "id": "042b308c",
   "metadata": {
    "id": "042b308c"
   },
   "source": [
    "### Linear SVC"
   ]
  },
  {
   "cell_type": "code",
   "execution_count": 14,
   "id": "27645b80",
   "metadata": {
    "colab": {
     "base_uri": "https://localhost:8080/"
    },
    "id": "27645b80",
    "outputId": "b7d959ef-8d34-4a67-e484-4440ebc7e921"
   },
   "outputs": [
    {
     "name": "stderr",
     "output_type": "stream",
     "text": [
      "/anaconda/envs/azureml_py36/lib/python3.6/site-packages/sklearn/utils/validation.py:760: DataConversionWarning: A column-vector y was passed when a 1d array was expected. Please change the shape of y to (n_samples, ), for example using ravel().\n",
      "  y = column_or_1d(y, warn=True)\n"
     ]
    },
    {
     "data": {
      "text/plain": [
       "LinearSVC(C=1.0, class_weight=None, dual=True, fit_intercept=True,\n",
       "          intercept_scaling=1, loss='squared_hinge', max_iter=1000,\n",
       "          multi_class='ovr', penalty='l2', random_state=None, tol=0.0001,\n",
       "          verbose=0)"
      ]
     },
     "execution_count": 14,
     "metadata": {},
     "output_type": "execute_result"
    }
   ],
   "source": [
    "linear_svc_model = LinearSVC()\n",
    "linear_svc_model.fit(X_train_tf, Y_train)"
   ]
  },
  {
   "cell_type": "markdown",
   "id": "7ERtl-xxfgqf",
   "metadata": {
    "id": "7ERtl-xxfgqf"
   },
   "source": [
    "### Decision Trees"
   ]
  },
  {
   "cell_type": "code",
   "execution_count": 15,
   "id": "D9dC-kjXei0L",
   "metadata": {
    "colab": {
     "base_uri": "https://localhost:8080/",
     "height": 197
    },
    "id": "D9dC-kjXei0L",
    "outputId": "fac6a232-0c27-4f70-80a6-3c4633f662f7"
   },
   "outputs": [
    {
     "data": {
      "text/plain": [
       "DecisionTreeClassifier(ccp_alpha=0.0, class_weight=None, criterion='gini',\n",
       "                       max_depth=10, max_features=None, max_leaf_nodes=None,\n",
       "                       min_impurity_decrease=0.0, min_impurity_split=None,\n",
       "                       min_samples_leaf=300, min_samples_split=4,\n",
       "                       min_weight_fraction_leaf=0.0, presort='deprecated',\n",
       "                       random_state=None, splitter='best')"
      ]
     },
     "execution_count": 15,
     "metadata": {},
     "output_type": "execute_result"
    }
   ],
   "source": [
    "from sklearn.tree import DecisionTreeClassifier\n",
    "model_dt = DecisionTreeClassifier(max_depth=10,min_samples_split=4,min_samples_leaf=300)\n",
    "model_dt.fit(X_train_tf, Y_train) "
   ]
  },
  {
   "cell_type": "markdown",
   "id": "MOAtIH1ufm92",
   "metadata": {
    "id": "MOAtIH1ufm92"
   },
   "source": [
    "### Random Forest"
   ]
  },
  {
   "cell_type": "code",
   "execution_count": 16,
   "id": "oiqJnk_qf_Vk",
   "metadata": {
    "id": "oiqJnk_qf_Vk"
   },
   "outputs": [
    {
     "name": "stderr",
     "output_type": "stream",
     "text": [
      "/anaconda/envs/azureml_py36/lib/python3.6/site-packages/ipykernel_launcher.py:3: DataConversionWarning: A column-vector y was passed when a 1d array was expected. Please change the shape of y to (n_samples,), for example using ravel().\n",
      "  This is separate from the ipykernel package so we can avoid doing imports until\n"
     ]
    },
    {
     "data": {
      "text/plain": [
       "RandomForestClassifier(bootstrap=True, ccp_alpha=0.0, class_weight=None,\n",
       "                       criterion='gini', max_depth=10, max_features='auto',\n",
       "                       max_leaf_nodes=None, max_samples=None,\n",
       "                       min_impurity_decrease=0.0, min_impurity_split=None,\n",
       "                       min_samples_leaf=300, min_samples_split=4,\n",
       "                       min_weight_fraction_leaf=0.0, n_estimators=100,\n",
       "                       n_jobs=None, oob_score=False, random_state=None,\n",
       "                       verbose=0, warm_start=False)"
      ]
     },
     "execution_count": 16,
     "metadata": {},
     "output_type": "execute_result"
    }
   ],
   "source": [
    "from sklearn.ensemble import RandomForestClassifier\n",
    "model_rf = RandomForestClassifier(n_estimators=100,max_depth=10,min_samples_split=4,min_samples_leaf=300)\n",
    "model_rf.fit(X_train_tf, Y_train) \n"
   ]
  },
  {
   "cell_type": "markdown",
   "id": "5e8f7e39",
   "metadata": {
    "id": "5e8f7e39"
   },
   "source": [
    "### Performance Evaluation"
   ]
  },
  {
   "cell_type": "markdown",
   "id": "ac2f0772",
   "metadata": {},
   "source": [
    "### Train data"
   ]
  },
  {
   "cell_type": "code",
   "execution_count": 32,
   "id": "75fc5af0",
   "metadata": {
    "id": "75fc5af0"
   },
   "outputs": [],
   "source": [
    "def report(model,X,Y,modelName,train=True):\n",
    "    YPred = model.predict(X)\n",
    "    if train:\n",
    "        print(f\"{modelName} Training Data Result:\\n================================================\")\n",
    "    else:\n",
    "        print(f\"{modelName} Test Data Result:\\n================================================\")\n",
    "    print(f\"Accuracy Score: {accuracy_score(Y, YPred) * 100:.2f}%\")\n",
    "    print(\"_______________________________________________\")\n",
    "    print(f\"Confusion Matrix: \\n {confusion_matrix(Y, YPred)}\\n\")\n",
    "    print(\"_______________________________________________\")\n",
    "    clf_report = pd.DataFrame(classification_report(Y, YPred, output_dict=True))\n",
    "    print(f\"CLASSIFICATION REPORT:\\n{clf_report}\")\n",
    "    skplt.metrics.plot_confusion_matrix(Y, YPred)"
   ]
  },
  {
   "cell_type": "code",
   "execution_count": 18,
   "id": "c35a77ea",
   "metadata": {
    "id": "c35a77ea",
    "outputId": "39cf9a89-101b-45a0-f52f-9ecf28d4683c"
   },
   "outputs": [
    {
     "name": "stdout",
     "output_type": "stream",
     "text": [
      "Multinomial NB Model Training Data Result:\n",
      "================================================\n",
      "Accuracy Score: 84.71%\n",
      "_______________________________________________\n",
      "Confusion Matrix: \n",
      " [[1549901  250099]\n",
      " [ 300297 1499702]]\n",
      "\n",
      "_______________________________________________\n",
      "CLASSIFICATION REPORT:\n",
      "                      1             2  accuracy     macro avg  weighted avg\n",
      "precision  8.376947e-01  8.570700e-01  0.847112  8.473824e-01  8.473823e-01\n",
      "recall     8.610561e-01  8.331682e-01  0.847112  8.471122e-01  8.471122e-01\n",
      "f1-score   8.492148e-01  8.449501e-01  0.847112  8.470824e-01  8.470824e-01\n",
      "support    1.800000e+06  1.799999e+06  0.847112  3.599999e+06  3.599999e+06\n"
     ]
    },
    {
     "data": {
      "image/png": "[encoded data removed]",
      "text/plain": [
       "<Figure size 432x288 with 2 Axes>"
      ]
     },
     "metadata": {
      "needs_background": "light"
     },
     "output_type": "display_data"
    }
   ],
   "source": [
    "report(multinomial_nb_model,X_train_tf,Y_train,'Multinomial NB Model')"
   ]
  },
  {
   "cell_type": "code",
   "execution_count": 19,
   "id": "c4593eb1",
   "metadata": {
    "id": "c4593eb1",
    "outputId": "686725dd-c8d9-4810-ce3a-89e3f2c85120"
   },
   "outputs": [
    {
     "name": "stdout",
     "output_type": "stream",
     "text": [
      "Bernoulli NB Model Training Data Result:\n",
      "================================================\n",
      "Accuracy Score: 85.25%\n",
      "_______________________________________________\n",
      "Confusion Matrix: \n",
      " [[1516008  283992]\n",
      " [ 246992 1553007]]\n",
      "\n",
      "_______________________________________________\n",
      "CLASSIFICATION REPORT:\n",
      "                      1             2  accuracy     macro avg  weighted avg\n",
      "precision  8.599024e-01  8.454044e-01  0.852504  8.526534e-01  8.526534e-01\n",
      "recall     8.422267e-01  8.627821e-01  0.852504  8.525044e-01  8.525044e-01\n",
      "f1-score   8.509728e-01  8.540049e-01  0.852504  8.524888e-01  8.524888e-01\n",
      "support    1.800000e+06  1.799999e+06  0.852504  3.599999e+06  3.599999e+06\n"
     ]
    },
    {
     "data": {
      "image/png": "[encoded data removed]",
      "text/plain": [
       "<Figure size 432x288 with 2 Axes>"
      ]
     },
     "metadata": {
      "needs_background": "light"
     },
     "output_type": "display_data"
    }
   ],
   "source": [
    "report(bernoulli_nb_model,X_train_tf,Y_train,'Bernoulli NB Model')"
   ]
  },
  {
   "cell_type": "code",
   "execution_count": 20,
   "id": "238c4321",
   "metadata": {
    "id": "238c4321",
    "outputId": "dddfd038-6532-485c-af11-64a0732a1e45"
   },
   "outputs": [
    {
     "name": "stdout",
     "output_type": "stream",
     "text": [
      "Logistic regression Model Training Data Result:\n",
      "================================================\n",
      "Accuracy Score: 94.10%\n",
      "_______________________________________________\n",
      "Confusion Matrix: \n",
      " [[1691519  108481]\n",
      " [ 103822 1696177]]\n",
      "\n",
      "_______________________________________________\n",
      "CLASSIFICATION REPORT:\n",
      "                      1             2  accuracy     macro avg  weighted avg\n",
      "precision  9.421714e-01  9.398883e-01  0.941027  9.410299e-01  9.410299e-01\n",
      "recall     9.397328e-01  9.423211e-01  0.941027  9.410269e-01  9.410269e-01\n",
      "f1-score   9.409505e-01  9.411031e-01  0.941027  9.410268e-01  9.410268e-01\n",
      "support    1.800000e+06  1.799999e+06  0.941027  3.599999e+06  3.599999e+06\n"
     ]
    },
    {
     "data": {
      "image/png": "[encoded data removed]",
      "text/plain": [
       "<Figure size 432x288 with 2 Axes>"
      ]
     },
     "metadata": {
      "needs_background": "light"
     },
     "output_type": "display_data"
    }
   ],
   "source": [
    "report(pipe,X_train_tf,Y_train,'Logistic regression Model')"
   ]
  },
  {
   "cell_type": "code",
   "execution_count": 21,
   "id": "181b7647",
   "metadata": {
    "id": "181b7647"
   },
   "outputs": [
    {
     "name": "stdout",
     "output_type": "stream",
     "text": [
      "Linear SVC Model Training Data Result:\n",
      "================================================\n",
      "Accuracy Score: 91.71%\n",
      "_______________________________________________\n",
      "Confusion Matrix: \n",
      " [[1646972  153028]\n",
      " [ 145539 1654460]]\n",
      "\n",
      "_______________________________________________\n",
      "CLASSIFICATION REPORT:\n",
      "                      1             2  accuracy     macro avg  weighted avg\n",
      "precision  9.188072e-01  9.153366e-01  0.917065  9.170719e-01  9.170719e-01\n",
      "recall     9.149844e-01  9.191450e-01  0.917065  9.170647e-01  9.170647e-01\n",
      "f1-score   9.168918e-01  9.172368e-01  0.917065  9.170643e-01  9.170643e-01\n",
      "support    1.800000e+06  1.799999e+06  0.917065  3.599999e+06  3.599999e+06\n"
     ]
    },
    {
     "data": {
      "image/png": "[encoded data removed]",
      "text/plain": [
       "<Figure size 432x288 with 2 Axes>"
      ]
     },
     "metadata": {
      "needs_background": "light"
     },
     "output_type": "display_data"
    }
   ],
   "source": [
    "report(linear_svc_model,X_train_tf,Y_train,'Linear SVC Model')"
   ]
  },
  {
   "cell_type": "code",
   "execution_count": 22,
   "id": "m7K4MR3njMCE",
   "metadata": {
    "id": "m7K4MR3njMCE"
   },
   "outputs": [
    {
     "name": "stdout",
     "output_type": "stream",
     "text": [
      "Decision trees Model Training Data Result:\n",
      "================================================\n",
      "Accuracy Score: 68.75%\n",
      "_______________________________________________\n",
      "Confusion Matrix: \n",
      " [[1510783  289217]\n",
      " [ 835867  964132]]\n",
      "\n",
      "_______________________________________________\n",
      "CLASSIFICATION REPORT:\n",
      "                      1             2  accuracy     macro avg  weighted avg\n",
      "precision  6.438041e-01  7.692446e-01  0.687477  7.065244e-01  7.065244e-01\n",
      "recall     8.393239e-01  5.356292e-01  0.687477  6.874765e-01  6.874766e-01\n",
      "f1-score   7.286764e-01  6.315245e-01  0.687477  6.801004e-01  6.801005e-01\n",
      "support    1.800000e+06  1.799999e+06  0.687477  3.599999e+06  3.599999e+06\n"
     ]
    },
    {
     "data": {
      "image/png": "[encoded data removed]",
      "text/plain": [
       "<Figure size 432x288 with 2 Axes>"
      ]
     },
     "metadata": {
      "needs_background": "light"
     },
     "output_type": "display_data"
    }
   ],
   "source": [
    "report(model_dt,X_train_tf,Y_train,'Decision trees Model')"
   ]
  },
  {
   "cell_type": "code",
   "execution_count": 23,
   "id": "EbRlcekXjbQ4",
   "metadata": {
    "id": "EbRlcekXjbQ4"
   },
   "outputs": [
    {
     "name": "stdout",
     "output_type": "stream",
     "text": [
      "Random forest Model Training Data Result:\n",
      "================================================\n",
      "Accuracy Score: 72.99%\n",
      "_______________________________________________\n",
      "Confusion Matrix: \n",
      " [[1176026  623974]\n",
      " [ 348258 1451741]]\n",
      "\n",
      "_______________________________________________\n",
      "CLASSIFICATION REPORT:\n",
      "                      1             2  accuracy     macro avg  weighted avg\n",
      "precision  7.715268e-01  6.993932e-01  0.729935  7.354600e-01  7.354600e-01\n",
      "recall     6.533478e-01  8.065232e-01  0.729935  7.299355e-01  7.299355e-01\n",
      "f1-score   7.075364e-01  7.491476e-01  0.729935  7.283420e-01  7.283420e-01\n",
      "support    1.800000e+06  1.799999e+06  0.729935  3.599999e+06  3.599999e+06\n"
     ]
    },
    {
     "data": {
      "image/png": "[encoded data removed]",
      "text/plain": [
       "<Figure size 432x288 with 2 Axes>"
      ]
     },
     "metadata": {
      "needs_background": "light"
     },
     "output_type": "display_data"
    }
   ],
   "source": [
    "report(model_rf,X_train_tf,Y_train,'Random forest Model')"
   ]
  },
  {
   "cell_type": "markdown",
   "id": "29aeaae8",
   "metadata": {
    "id": "29aeaae8"
   },
   "source": [
    "### Test Data "
   ]
  },
  {
   "cell_type": "code",
   "execution_count": 41,
   "id": "47a8e166",
   "metadata": {
    "id": "47a8e166",
    "outputId": "da3805dd-ca63-422a-899b-e00865420ab1"
   },
   "outputs": [
    {
     "name": "stdout",
     "output_type": "stream",
     "text": [
      "Multinomial NB Model Test Data Result:\n",
      "================================================\n",
      "Accuracy Score: 82.27%\n",
      "_______________________________________________\n",
      "Confusion Matrix: \n",
      " [[167741  32259]\n",
      " [ 38649 161350]]\n",
      "\n",
      "_______________________________________________\n",
      "CLASSIFICATION REPORT:\n",
      "                       1              2  accuracy      macro avg  \\\n",
      "precision       0.812738       0.833381   0.82273       0.823059   \n",
      "recall          0.838705       0.806754   0.82273       0.822730   \n",
      "f1-score        0.825517       0.819851   0.82273       0.822684   \n",
      "support    200000.000000  199999.000000   0.82273  399999.000000   \n",
      "\n",
      "            weighted avg  \n",
      "precision       0.823059  \n",
      "recall          0.822730  \n",
      "f1-score        0.822684  \n",
      "support    399999.000000  \n"
     ]
    },
    {
     "data": {
      "image/png": "[encoded data removed]",
      "text/plain": [
       "<Figure size 432x288 with 2 Axes>"
      ]
     },
     "metadata": {
      "needs_background": "light"
     },
     "output_type": "display_data"
    }
   ],
   "source": [
    "report(multinomial_nb_model,X_test_tf,Y_test,'Multinomial NB Model',False)"
   ]
  },
  {
   "cell_type": "code",
   "execution_count": 42,
   "id": "4e1b90f8",
   "metadata": {
    "id": "4e1b90f8",
    "outputId": "24f15c1d-fac1-4a6d-c278-51d236a72fdf"
   },
   "outputs": [
    {
     "name": "stdout",
     "output_type": "stream",
     "text": [
      "Bernoulli NB Model Test Data Result:\n",
      "================================================\n",
      "Accuracy Score: 82.97%\n",
      "_______________________________________________\n",
      "Confusion Matrix: \n",
      " [[163749  36251]\n",
      " [ 31870 168129]]\n",
      "\n",
      "_______________________________________________\n",
      "CLASSIFICATION REPORT:\n",
      "                       1              2  accuracy      macro avg  \\\n",
      "precision       0.837081       0.822629  0.829697       0.829855   \n",
      "recall          0.818745       0.840649  0.829697       0.829697   \n",
      "f1-score        0.827812       0.831542  0.829697       0.829677   \n",
      "support    200000.000000  199999.000000  0.829697  399999.000000   \n",
      "\n",
      "            weighted avg  \n",
      "precision       0.829855  \n",
      "recall          0.829697  \n",
      "f1-score        0.829677  \n",
      "support    399999.000000  \n"
     ]
    },
    {
     "data": {
      "image/png": "[encoded data removed]",
      "text/plain": [
       "<Figure size 432x288 with 2 Axes>"
      ]
     },
     "metadata": {
      "needs_background": "light"
     },
     "output_type": "display_data"
    }
   ],
   "source": [
    "report(bernoulli_nb_model,X_test_tf,Y_test,'Bernoulli NB Model',False)"
   ]
  },
  {
   "cell_type": "code",
   "execution_count": 43,
   "id": "ebcdbaf6",
   "metadata": {
    "id": "ebcdbaf6",
    "outputId": "178e64c3-abfe-4ecd-a4b9-4d3cd924c82a"
   },
   "outputs": [
    {
     "name": "stdout",
     "output_type": "stream",
     "text": [
      "Logistic NB Model Test Data Result:\n",
      "================================================\n",
      "Accuracy Score: 80.16%\n",
      "_______________________________________________\n",
      "Confusion Matrix: \n",
      " [[160219  39781]\n",
      " [ 39594 160405]]\n",
      "\n",
      "_______________________________________________\n",
      "CLASSIFICATION REPORT:\n",
      "                       1              2  accuracy      macro avg  \\\n",
      "precision       0.801845       0.801280  0.801562       0.801562   \n",
      "recall          0.801095       0.802029  0.801562       0.801562   \n",
      "f1-score        0.801470       0.801654  0.801562       0.801562   \n",
      "support    200000.000000  199999.000000  0.801562  399999.000000   \n",
      "\n",
      "            weighted avg  \n",
      "precision       0.801562  \n",
      "recall          0.801562  \n",
      "f1-score        0.801562  \n",
      "support    399999.000000  \n"
     ]
    },
    {
     "data": {
      "image/png": "[encoded data removed]",
      "text/plain": [
       "<Figure size 432x288 with 2 Axes>"
      ]
     },
     "metadata": {
      "needs_background": "light"
     },
     "output_type": "display_data"
    }
   ],
   "source": [
    "report(pipe,X_test_tf,Y_test,'Logistic NB Model',False)"
   ]
  },
  {
   "cell_type": "code",
   "execution_count": 44,
   "id": "17274bf2",
   "metadata": {
    "id": "17274bf2"
   },
   "outputs": [
    {
     "name": "stdout",
     "output_type": "stream",
     "text": [
      "Linear SVC Model Test Data Result:\n",
      "================================================\n",
      "Accuracy Score: 87.12%\n",
      "_______________________________________________\n",
      "Confusion Matrix: \n",
      " [[173485  26515]\n",
      " [ 25024 174975]]\n",
      "\n",
      "_______________________________________________\n",
      "CLASSIFICATION REPORT:\n",
      "                       1              2  accuracy      macro avg  \\\n",
      "precision       0.873940       0.868405  0.871152       0.871173   \n",
      "recall          0.867425       0.874879  0.871152       0.871152   \n",
      "f1-score        0.870670       0.871630  0.871152       0.871150   \n",
      "support    200000.000000  199999.000000  0.871152  399999.000000   \n",
      "\n",
      "            weighted avg  \n",
      "precision       0.871173  \n",
      "recall          0.871152  \n",
      "f1-score        0.871150  \n",
      "support    399999.000000  \n"
     ]
    },
    {
     "data": {
      "image/png": "[encoded data removed]",
      "text/plain": [
       "<Figure size 432x288 with 2 Axes>"
      ]
     },
     "metadata": {
      "needs_background": "light"
     },
     "output_type": "display_data"
    }
   ],
   "source": [
    "report(linear_svc_model,X_test_tf,Y_test,'Linear SVC Model',False)"
   ]
  },
  {
   "cell_type": "code",
   "execution_count": 45,
   "id": "w2GhCEsnrsOU",
   "metadata": {
    "id": "w2GhCEsnrsOU"
   },
   "outputs": [
    {
     "name": "stdout",
     "output_type": "stream",
     "text": [
      "Decision trees Model Training Data Result:\n",
      "================================================\n",
      "Accuracy Score: 68.82%\n",
      "_______________________________________________\n",
      "Confusion Matrix: \n",
      " [[167846  32154]\n",
      " [ 92579 107420]]\n",
      "\n",
      "_______________________________________________\n",
      "CLASSIFICATION REPORT:\n",
      "                       1              2  accuracy      macro avg  \\\n",
      "precision       0.644508       0.769628  0.688167       0.707068   \n",
      "recall          0.839230       0.537103  0.688167       0.688166   \n",
      "f1-score        0.729092       0.632677  0.688167       0.680884   \n",
      "support    200000.000000  199999.000000  0.688167  399999.000000   \n",
      "\n",
      "            weighted avg  \n",
      "precision       0.707068  \n",
      "recall          0.688167  \n",
      "f1-score        0.680884  \n",
      "support    399999.000000  \n"
     ]
    },
    {
     "data": {
      "image/png": "[encoded data removed]",
      "text/plain": [
       "<Figure size 432x288 with 2 Axes>"
      ]
     },
     "metadata": {
      "needs_background": "light"
     },
     "output_type": "display_data"
    }
   ],
   "source": [
    "report(model_dt,X_test_tf,Y_test,'Decision trees Model')"
   ]
  },
  {
   "cell_type": "code",
   "execution_count": 46,
   "id": "qZvuKDHqryVS",
   "metadata": {
    "id": "qZvuKDHqryVS"
   },
   "outputs": [
    {
     "name": "stdout",
     "output_type": "stream",
     "text": [
      "Random Forest Model Training Data Result:\n",
      "================================================\n",
      "Accuracy Score: 72.88%\n",
      "_______________________________________________\n",
      "Confusion Matrix: \n",
      " [[130571  69429]\n",
      " [ 39068 160931]]\n",
      "\n",
      "_______________________________________________\n",
      "CLASSIFICATION REPORT:\n",
      "                       1              2  accuracy      macro avg  \\\n",
      "precision       0.769699       0.698607  0.728757       0.734153   \n",
      "recall          0.652855       0.804659  0.728757       0.728757   \n",
      "f1-score        0.706478       0.747892  0.728757       0.727185   \n",
      "support    200000.000000  199999.000000  0.728757  399999.000000   \n",
      "\n",
      "            weighted avg  \n",
      "precision       0.734153  \n",
      "recall          0.728757  \n",
      "f1-score        0.727185  \n",
      "support    399999.000000  \n"
     ]
    },
    {
     "data": {
      "image/png": "[encoded data removed]",
      "text/plain": [
       "<Figure size 432x288 with 2 Axes>"
      ]
     },
     "metadata": {
      "needs_background": "light"
     },
     "output_type": "display_data"
    }
   ],
   "source": [
    "report(model_rf,X_test_tf,Y_test,'Random Forest Model')"
   ]
  },
  {
   "cell_type": "markdown",
   "id": "857036f7",
   "metadata": {
    "id": "857036f7"
   },
   "source": [
    "### Doc2Vec\n"
   ]
  },
  {
   "cell_type": "code",
   "execution_count": 74,
   "id": "afb1c9e6",
   "metadata": {
    "id": "afb1c9e6"
   },
   "outputs": [],
   "source": [
    "def feature_extract(dataset):\n",
    "    data = dataset['title'] + ' ' + dataset['text']\n",
    "    data = [nltk.word_tokenize(str(l)) for l in data]\n",
    "    tag_doc = [TaggedDocument(doc, [i]) for i, doc in enumerate(data)]\n",
    "    model = Doc2Vec(tag_doc)\n",
    "    return np.array([model.docvecs[i] for i in range(len(model.docvecs))])\n",
    "\n",
    "train_array = feature_extract(X_train)"
   ]
  },
  {
   "cell_type": "code",
   "execution_count": 75,
   "id": "741f8e59",
   "metadata": {},
   "outputs": [
    {
     "name": "stdout",
     "output_type": "stream",
     "text": [
      "No. of Features 100\n"
     ]
    }
   ],
   "source": [
    "print(f'No. of Features {train_array.shape[1]}')"
   ]
  },
  {
   "cell_type": "markdown",
   "id": "08da303b",
   "metadata": {
    "id": "08da303b"
   },
   "source": [
    "### Naive Bayes"
   ]
  },
  {
   "cell_type": "code",
   "execution_count": 76,
   "id": "b7efc089",
   "metadata": {
    "id": "b7efc089",
    "outputId": "92b195d3-1719-4441-bedb-733813f027ec"
   },
   "outputs": [
    {
     "name": "stderr",
     "output_type": "stream",
     "text": [
      "/anaconda/envs/azureml_py36/lib/python3.6/site-packages/sklearn/utils/validation.py:760: DataConversionWarning: A column-vector y was passed when a 1d array was expected. Please change the shape of y to (n_samples, ), for example using ravel().\n",
      "  y = column_or_1d(y, warn=True)\n"
     ]
    },
    {
     "data": {
      "text/plain": [
       "BernoulliNB(alpha=1.0, binarize=0.0, class_prior=None, fit_prior=True)"
      ]
     },
     "execution_count": 76,
     "metadata": {},
     "output_type": "execute_result"
    }
   ],
   "source": [
    "#BernoulliNB\n",
    "# Build the classifier\n",
    "bernoulli_nb_model = BernoulliNB()\n",
    "\n",
    "#  Train the classifier\n",
    "bernoulli_nb_model.fit(train_array, Y_train)"
   ]
  },
  {
   "cell_type": "markdown",
   "id": "2de3cf7a",
   "metadata": {},
   "source": [
    "### Logistic Regression"
   ]
  },
  {
   "cell_type": "code",
   "execution_count": 77,
   "id": "d7196209",
   "metadata": {
    "id": "d7196209",
    "outputId": "70c95310-6d8a-4597-a89f-46af69c36257"
   },
   "outputs": [
    {
     "name": "stderr",
     "output_type": "stream",
     "text": [
      "/anaconda/envs/azureml_py36/lib/python3.6/site-packages/sklearn/utils/validation.py:760: DataConversionWarning: A column-vector y was passed when a 1d array was expected. Please change the shape of y to (n_samples, ), for example using ravel().\n",
      "  y = column_or_1d(y, warn=True)\n"
     ]
    },
    {
     "data": {
      "text/plain": [
       "LogisticRegression(C=1.0, class_weight=None, dual=False, fit_intercept=True,\n",
       "                   intercept_scaling=1, l1_ratio=None, max_iter=1000,\n",
       "                   multi_class='auto', n_jobs=None, penalty='l2',\n",
       "                   random_state=42, solver='lbfgs', tol=0.0001, verbose=0,\n",
       "                   warm_start=False)"
      ]
     },
     "execution_count": 77,
     "metadata": {},
     "output_type": "execute_result"
    }
   ],
   "source": [
    "log_regg = LogisticRegression(random_state=42,solver='lbfgs', max_iter=1000)\n",
    "log_regg.fit(train_array, Y_train)"
   ]
  },
  {
   "cell_type": "markdown",
   "id": "aaee911b",
   "metadata": {},
   "source": [
    "### Linear SVC"
   ]
  },
  {
   "cell_type": "code",
   "execution_count": 81,
   "id": "zYrQCC2wtTZj",
   "metadata": {
    "id": "zYrQCC2wtTZj"
   },
   "outputs": [
    {
     "name": "stderr",
     "output_type": "stream",
     "text": [
      "/anaconda/envs/azureml_py36/lib/python3.6/site-packages/sklearn/utils/validation.py:760: DataConversionWarning: A column-vector y was passed when a 1d array was expected. Please change the shape of y to (n_samples, ), for example using ravel().\n",
      "  y = column_or_1d(y, warn=True)\n"
     ]
    },
    {
     "data": {
      "text/plain": [
       "LinearSVC(C=1.0, class_weight=None, dual=True, fit_intercept=True,\n",
       "          intercept_scaling=1, loss='squared_hinge', max_iter=1000,\n",
       "          multi_class='ovr', penalty='l2', random_state=None, tol=0.0001,\n",
       "          verbose=0)"
      ]
     },
     "execution_count": 81,
     "metadata": {},
     "output_type": "execute_result"
    }
   ],
   "source": [
    "linear_svc_model = LinearSVC()\n",
    "linear_svc_model.fit(train_array, Y_train)"
   ]
  },
  {
   "cell_type": "markdown",
   "id": "cef80ff2",
   "metadata": {},
   "source": [
    "### Decision Trees"
   ]
  },
  {
   "cell_type": "code",
   "execution_count": 82,
   "id": "5dcf5d81",
   "metadata": {
    "id": "5dcf5d81"
   },
   "outputs": [],
   "source": [
    "deci_tree = DecisionTreeClassifier(random_state=23,max_depth=15).fit(train_array,Y_train)"
   ]
  },
  {
   "cell_type": "markdown",
   "id": "08eae2c7",
   "metadata": {},
   "source": [
    "### Random Forest"
   ]
  },
  {
   "cell_type": "code",
   "execution_count": 83,
   "id": "17738046",
   "metadata": {
    "id": "17738046"
   },
   "outputs": [
    {
     "name": "stderr",
     "output_type": "stream",
     "text": [
      "/anaconda/envs/azureml_py36/lib/python3.6/site-packages/ipykernel_launcher.py:1: DataConversionWarning: A column-vector y was passed when a 1d array was expected. Please change the shape of y to (n_samples,), for example using ravel().\n",
      "  \"\"\"Entry point for launching an IPython kernel.\n"
     ]
    }
   ],
   "source": [
    "rand_forest = RandomForestClassifier(random_state=25,max_depth=10,n_jobs=-1).fit(train_array,Y_train)"
   ]
  },
  {
   "cell_type": "markdown",
   "id": "7a41167a",
   "metadata": {
    "id": "7a41167a"
   },
   "source": [
    "### Performance Evaluation"
   ]
  },
  {
   "cell_type": "markdown",
   "id": "aabe6488",
   "metadata": {
    "id": "aabe6488"
   },
   "source": [
    "### Train Data"
   ]
  },
  {
   "cell_type": "code",
   "execution_count": 84,
   "id": "4b995ff6",
   "metadata": {
    "id": "4b995ff6",
    "outputId": "26ec7aff-c079-4fe9-ca1f-31915bd325e7"
   },
   "outputs": [
    {
     "name": "stdout",
     "output_type": "stream",
     "text": [
      "Bernoulli NB Model Training Data Result:\n",
      "================================================\n",
      "Accuracy Score: 70.64%\n",
      "_______________________________________________\n",
      "Confusion Matrix: \n",
      " [[1258685  541315]\n",
      " [ 515800 1284199]]\n",
      "\n",
      "_______________________________________________\n",
      "CLASSIFICATION REPORT:\n",
      "                      1             2  accuracy     macro avg  weighted avg\n",
      "precision  7.093241e-01  7.034726e-01  0.706357  7.063983e-01  7.063983e-01\n",
      "recall     6.992694e-01  7.134443e-01  0.706357  7.063569e-01  7.063569e-01\n",
      "f1-score   7.042609e-01  7.084233e-01  0.706357  7.063421e-01  7.063421e-01\n",
      "support    1.800000e+06  1.799999e+06  0.706357  3.599999e+06  3.599999e+06\n"
     ]
    },
    {
     "data": {
      "image/png": "[encoded data removed]",
      "text/plain": [
       "<Figure size 432x288 with 2 Axes>"
      ]
     },
     "metadata": {
      "needs_background": "light"
     },
     "output_type": "display_data"
    }
   ],
   "source": [
    "report(bernoulli_nb_model,train_array,Y_train,'Bernoulli NB Model')"
   ]
  },
  {
   "cell_type": "code",
   "execution_count": 85,
   "id": "29047945",
   "metadata": {
    "id": "29047945",
    "outputId": "a28bb045-1285-42eb-87d6-6420c4675fc0"
   },
   "outputs": [
    {
     "name": "stdout",
     "output_type": "stream",
     "text": [
      "Logistic Regression Model Training Data Result:\n",
      "================================================\n",
      "Accuracy Score: 78.06%\n",
      "_______________________________________________\n",
      "Confusion Matrix: \n",
      " [[1403522  396478]\n",
      " [ 393534 1406465]]\n",
      "\n",
      "_______________________________________________\n",
      "CLASSIFICATION REPORT:\n",
      "                      1             2  accuracy     macro avg  weighted avg\n",
      "precision  7.810118e-01  7.800940e-01  0.780552  7.805529e-01  7.805529e-01\n",
      "recall     7.797344e-01  7.813699e-01  0.780552  7.805522e-01  7.805522e-01\n",
      "f1-score   7.803726e-01  7.807314e-01  0.780552  7.805520e-01  7.805520e-01\n",
      "support    1.800000e+06  1.799999e+06  0.780552  3.599999e+06  3.599999e+06\n"
     ]
    },
    {
     "data": {
      "image/png": "[encoded data removed]",
      "text/plain": [
       "<Figure size 432x288 with 2 Axes>"
      ]
     },
     "metadata": {
      "needs_background": "light"
     },
     "output_type": "display_data"
    }
   ],
   "source": [
    "report(log_regg,train_array,Y_train,'Logistic Regression Model')"
   ]
  },
  {
   "cell_type": "code",
   "execution_count": 87,
   "id": "WCg4jJQ2tp3j",
   "metadata": {
    "id": "WCg4jJQ2tp3j"
   },
   "outputs": [
    {
     "name": "stdout",
     "output_type": "stream",
     "text": [
      "Linear SVC Model Test Data Result:\n",
      "================================================\n",
      "Accuracy Score: 78.06%\n",
      "_______________________________________________\n",
      "Confusion Matrix: \n",
      " [[1401060  398940]\n",
      " [ 391058 1408941]]\n",
      "\n",
      "_______________________________________________\n",
      "CLASSIFICATION REPORT:\n",
      "                      1             2  accuracy     macro avg  weighted avg\n",
      "precision  7.817900e-01  7.793328e-01  0.780556  7.805614e-01  7.805614e-01\n",
      "recall     7.783667e-01  7.827454e-01  0.780556  7.805561e-01  7.805561e-01\n",
      "f1-score   7.800746e-01  7.810354e-01  0.780556  7.805550e-01  7.805550e-01\n",
      "support    1.800000e+06  1.799999e+06  0.780556  3.599999e+06  3.599999e+06\n"
     ]
    },
    {
     "data": {
      "image/png": "[encoded data removed]",
      "text/plain": [
       "<Figure size 432x288 with 2 Axes>"
      ]
     },
     "metadata": {
      "needs_background": "light"
     },
     "output_type": "display_data"
    }
   ],
   "source": [
    "report(linear_svc_model,train_array,Y_train,'Linear SVC Model',False)"
   ]
  },
  {
   "cell_type": "code",
   "execution_count": 88,
   "id": "b19dd075",
   "metadata": {
    "id": "b19dd075",
    "outputId": "f3629ab2-4b7b-455b-d585-7d243f2b28f8"
   },
   "outputs": [
    {
     "name": "stdout",
     "output_type": "stream",
     "text": [
      "Decision Tree Training Data Result:\n",
      "================================================\n",
      "Accuracy Score: 74.07%\n",
      "_______________________________________________\n",
      "Confusion Matrix: \n",
      " [[1332822  467178]\n",
      " [ 466139 1333860]]\n",
      "\n",
      "_______________________________________________\n",
      "CLASSIFICATION REPORT:\n",
      "                      1             2  accuracy     macro avg  weighted avg\n",
      "precision  7.408843e-01  7.406063e-01  0.740745  7.407453e-01  7.407453e-01\n",
      "recall     7.404567e-01  7.410337e-01  0.740745  7.407452e-01  7.407452e-01\n",
      "f1-score   7.406704e-01  7.408199e-01  0.740745  7.407452e-01  7.407452e-01\n",
      "support    1.800000e+06  1.799999e+06  0.740745  3.599999e+06  3.599999e+06\n"
     ]
    },
    {
     "data": {
      "image/png": "[encoded data removed]",
      "text/plain": [
       "<Figure size 432x288 with 2 Axes>"
      ]
     },
     "metadata": {
      "needs_background": "light"
     },
     "output_type": "display_data"
    }
   ],
   "source": [
    "report(deci_tree,train_array,Y_train,'Decision Tree')"
   ]
  },
  {
   "cell_type": "code",
   "execution_count": 89,
   "id": "4dddcbd8",
   "metadata": {
    "id": "4dddcbd8",
    "outputId": "b0c37599-930f-4ddc-dfea-4c209705a790"
   },
   "outputs": [
    {
     "name": "stdout",
     "output_type": "stream",
     "text": [
      "Random Forest Training Data Result:\n",
      "================================================\n",
      "Accuracy Score: 72.93%\n",
      "_______________________________________________\n",
      "Confusion Matrix: \n",
      " [[1315048  484952]\n",
      " [ 489654 1310345]]\n",
      "\n",
      "_______________________________________________\n",
      "CLASSIFICATION REPORT:\n",
      "                      1             2  accuracy     macro avg  weighted avg\n",
      "precision  7.286788e-01  7.298764e-01  0.729276  7.292776e-01  7.292776e-01\n",
      "recall     7.305822e-01  7.279698e-01  0.729276  7.292760e-01  7.292760e-01\n",
      "f1-score   7.296292e-01  7.289219e-01  0.729276  7.292756e-01  7.292756e-01\n",
      "support    1.800000e+06  1.799999e+06  0.729276  3.599999e+06  3.599999e+06\n"
     ]
    },
    {
     "data": {
      "image/png": "[encoded data removed]",
      "text/plain": [
       "<Figure size 432x288 with 2 Axes>"
      ]
     },
     "metadata": {
      "needs_background": "light"
     },
     "output_type": "display_data"
    }
   ],
   "source": [
    "report(rand_forest,train_array,Y_train,'Random Forest')"
   ]
  },
  {
   "cell_type": "markdown",
   "id": "11d79e27",
   "metadata": {
    "id": "11d79e27"
   },
   "source": [
    "### Test Data"
   ]
  },
  {
   "cell_type": "code",
   "execution_count": 90,
   "id": "e1fbe440",
   "metadata": {
    "id": "e1fbe440"
   },
   "outputs": [],
   "source": [
    "\n",
    "test_array = feature_extract(X_test)"
   ]
  },
  {
   "cell_type": "code",
   "execution_count": 91,
   "id": "0d0379bc",
   "metadata": {
    "id": "0d0379bc",
    "outputId": "bf7c18fd-0081-48f1-cf82-b8c162de6522"
   },
   "outputs": [
    {
     "name": "stdout",
     "output_type": "stream",
     "text": [
      "Bernoulli NB Model Test Data Result:\n",
      "================================================\n",
      "Accuracy Score: 67.62%\n",
      "_______________________________________________\n",
      "Confusion Matrix: \n",
      " [[162201  37799]\n",
      " [ 91724 108275]]\n",
      "\n",
      "_______________________________________________\n",
      "CLASSIFICATION REPORT:\n",
      "                       1              2  accuracy      macro avg  \\\n",
      "precision       0.638775       0.741234  0.676192       0.690005   \n",
      "recall          0.811005       0.541378  0.676192       0.676191   \n",
      "f1-score        0.714660       0.625735  0.676192       0.670197   \n",
      "support    200000.000000  199999.000000  0.676192  399999.000000   \n",
      "\n",
      "            weighted avg  \n",
      "precision       0.690004  \n",
      "recall          0.676192  \n",
      "f1-score        0.670198  \n",
      "support    399999.000000  \n"
     ]
    },
    {
     "data": {
      "image/png": "[encoded data removed]",
      "text/plain": [
       "<Figure size 432x288 with 2 Axes>"
      ]
     },
     "metadata": {
      "needs_background": "light"
     },
     "output_type": "display_data"
    }
   ],
   "source": [
    "report(bernoulli_nb_model,test_array,Y_test,'Bernoulli NB Model',False)"
   ]
  },
  {
   "cell_type": "code",
   "execution_count": 92,
   "id": "c053d449",
   "metadata": {
    "id": "c053d449",
    "outputId": "42b39872-2da5-424e-d0ec-fe612cab9282"
   },
   "outputs": [
    {
     "name": "stdout",
     "output_type": "stream",
     "text": [
      "Logistic Regression Model Test Data Result:\n",
      "================================================\n",
      "Accuracy Score: 70.81%\n",
      "_______________________________________________\n",
      "Confusion Matrix: \n",
      " [[166126  33874]\n",
      " [ 82877 117122]]\n",
      "\n",
      "_______________________________________________\n",
      "CLASSIFICATION REPORT:\n",
      "                       1              2  accuracy      macro avg  \\\n",
      "precision       0.667165       0.775663  0.708122       0.721414   \n",
      "recall          0.830630       0.585613  0.708122       0.708121   \n",
      "f1-score        0.739977       0.667371  0.708122       0.703674   \n",
      "support    200000.000000  199999.000000  0.708122  399999.000000   \n",
      "\n",
      "            weighted avg  \n",
      "precision       0.721414  \n",
      "recall          0.708122  \n",
      "f1-score        0.703674  \n",
      "support    399999.000000  \n"
     ]
    },
    {
     "data": {
      "image/png": "[encoded data removed]",
      "text/plain": [
       "<Figure size 432x288 with 2 Axes>"
      ]
     },
     "metadata": {
      "needs_background": "light"
     },
     "output_type": "display_data"
    }
   ],
   "source": [
    "report(log_regg,test_array,Y_test,'Logistic Regression Model',False)"
   ]
  },
  {
   "cell_type": "code",
   "execution_count": 93,
   "id": "jsx676ICuJBx",
   "metadata": {
    "id": "jsx676ICuJBx"
   },
   "outputs": [
    {
     "name": "stdout",
     "output_type": "stream",
     "text": [
      "Linear SVC Model Test Data Result:\n",
      "================================================\n",
      "Accuracy Score: 70.84%\n",
      "_______________________________________________\n",
      "Confusion Matrix: \n",
      " [[165867  34133]\n",
      " [ 82502 117497]]\n",
      "\n",
      "_______________________________________________\n",
      "CLASSIFICATION REPORT:\n",
      "                       1              2  accuracy      macro avg  \\\n",
      "precision       0.667825       0.774893  0.708412       0.721359   \n",
      "recall          0.829335       0.587488  0.708412       0.708411   \n",
      "f1-score        0.739868       0.668301  0.708412       0.704085   \n",
      "support    200000.000000  199999.000000  0.708412  399999.000000   \n",
      "\n",
      "            weighted avg  \n",
      "precision       0.721359  \n",
      "recall          0.708412  \n",
      "f1-score        0.704085  \n",
      "support    399999.000000  \n"
     ]
    },
    {
     "data": {
      "image/png": "[encoded data removed]",
      "text/plain": [
       "<Figure size 432x288 with 2 Axes>"
      ]
     },
     "metadata": {
      "needs_background": "light"
     },
     "output_type": "display_data"
    }
   ],
   "source": [
    "report(linear_svc_model,test_array,Y_test,'Linear SVC Model',False)"
   ]
  },
  {
   "cell_type": "code",
   "execution_count": 94,
   "id": "e92e7719",
   "metadata": {
    "id": "e92e7719",
    "outputId": "476f23c9-9210-4448-d668-9c842f3ecbcc"
   },
   "outputs": [
    {
     "name": "stdout",
     "output_type": "stream",
     "text": [
      "Decision Tree Test Data Result:\n",
      "================================================\n",
      "Accuracy Score: 62.12%\n",
      "_______________________________________________\n",
      "Confusion Matrix: \n",
      " [[134345  65655]\n",
      " [ 85870 114129]]\n",
      "\n",
      "_______________________________________________\n",
      "CLASSIFICATION REPORT:\n",
      "                       1              2  accuracy      macro avg  \\\n",
      "precision       0.610063       0.634812  0.621187       0.622437   \n",
      "recall          0.671725       0.570648  0.621187       0.621186   \n",
      "f1-score        0.639411       0.601022  0.621187       0.620216   \n",
      "support    200000.000000  199999.000000  0.621187  399999.000000   \n",
      "\n",
      "            weighted avg  \n",
      "precision       0.622437  \n",
      "recall          0.621187  \n",
      "f1-score        0.620217  \n",
      "support    399999.000000  \n"
     ]
    },
    {
     "data": {
      "image/png": "[encoded data removed]",
      "text/plain": [
       "<Figure size 432x288 with 2 Axes>"
      ]
     },
     "metadata": {
      "needs_background": "light"
     },
     "output_type": "display_data"
    }
   ],
   "source": [
    "report(deci_tree,test_array,Y_test,'Decision Tree',False)"
   ]
  },
  {
   "cell_type": "code",
   "execution_count": 95,
   "id": "688a1478",
   "metadata": {
    "id": "688a1478",
    "outputId": "dbcd1422-f520-4f77-f8ae-4df098d74f5b",
    "scrolled": true
   },
   "outputs": [
    {
     "name": "stdout",
     "output_type": "stream",
     "text": [
      "Random Forest Test Data Result:\n",
      "================================================\n",
      "Accuracy Score: 66.47%\n",
      "_______________________________________________\n",
      "Confusion Matrix: \n",
      " [[145334  54666]\n",
      " [ 79469 120530]]\n",
      "\n",
      "_______________________________________________\n",
      "CLASSIFICATION REPORT:\n",
      "                       1              2  accuracy      macro avg  \\\n",
      "precision       0.646495       0.687972  0.664662       0.667234   \n",
      "recall          0.726670       0.602653  0.664662       0.664662   \n",
      "f1-score        0.684242       0.642493  0.664662       0.663367   \n",
      "support    200000.000000  199999.000000  0.664662  399999.000000   \n",
      "\n",
      "            weighted avg  \n",
      "precision       0.667234  \n",
      "recall          0.664662  \n",
      "f1-score        0.663367  \n",
      "support    399999.000000  \n"
     ]
    },
    {
     "data": {
      "image/png": "[encoded data removed]",
      "text/plain": [
       "<Figure size 432x288 with 2 Axes>"
      ]
     },
     "metadata": {
      "needs_background": "light"
     },
     "output_type": "display_data"
    }
   ],
   "source": [
    "report(rand_forest,test_array,Y_test,'Random Forest',False)"
   ]
  }
 ],
 "metadata": {
  "accelerator": "GPU",
  "colab": {
   "collapsed_sections": [
    "b4e51f83",
    "7a41167a"
   ],
   "name": "Copy of Amazon_Review.ipynb",
   "provenance": []
  },
  "kernelspec": {
   "display_name": "Python 3",
   "language": "python",
   "name": "python3"
  },
  "language_info": {
   "codemirror_mode": {
    "name": "ipython",
    "version": 3
   },
   "file_extension": ".py",
   "mimetype": "text/x-python",
   "name": "python",
   "nbconvert_exporter": "python",
   "pygments_lexer": "ipython3",
   "version": "3.6.9"
  }
 },
 "nbformat": 4,
 "nbformat_minor": 5
}

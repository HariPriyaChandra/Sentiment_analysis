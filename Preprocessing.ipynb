{
 "cells": [
  {
   "cell_type": "code",
   "execution_count": 1,
   "metadata": {
    "gather": {
     "logged": 1633207326539
    }
   },
   "outputs": [],
   "source": [
    "#importing libraries\n",
    "import numpy as np\n",
    "import pandas as pd\n",
    "from sklearn.model_selection import train_test_split"
   ]
  },
  {
   "cell_type": "code",
   "execution_count": 2,
   "metadata": {
    "gather": {
     "logged": 1633207528488
    },
    "jupyter": {
     "outputs_hidden": false,
     "source_hidden": false
    },
    "nteract": {
     "transient": {
      "deleting": false
     }
    }
   },
   "outputs": [],
   "source": [
    "#reading train dataset\n",
    "df = pd.read_csv(\"train.csv\",names=['polarity','title','text'])"
   ]
  },
  {
   "cell_type": "code",
   "execution_count": 3,
   "metadata": {
    "gather": {
     "logged": 1633207346097
    },
    "jupyter": {
     "outputs_hidden": false,
     "source_hidden": false
    },
    "nteract": {
     "transient": {
      "deleting": false
     }
    }
   },
   "outputs": [
    {
     "data": {
      "text/html": [
       "<div>\n",
       "<style scoped>\n",
       "    .dataframe tbody tr th:only-of-type {\n",
       "        vertical-align: middle;\n",
       "    }\n",
       "\n",
       "    .dataframe tbody tr th {\n",
       "        vertical-align: top;\n",
       "    }\n",
       "\n",
       "    .dataframe thead th {\n",
       "        text-align: right;\n",
       "    }\n",
       "</style>\n",
       "<table border=\"1\" class=\"dataframe\">\n",
       "  <thead>\n",
       "    <tr style=\"text-align: right;\">\n",
       "      <th></th>\n",
       "      <th>polarity</th>\n",
       "      <th>title</th>\n",
       "      <th>text</th>\n",
       "    </tr>\n",
       "  </thead>\n",
       "  <tbody>\n",
       "    <tr>\n",
       "      <th>0</th>\n",
       "      <td>2</td>\n",
       "      <td>Stuning even for the non-gamer</td>\n",
       "      <td>This sound track was beautiful! It paints the ...</td>\n",
       "    </tr>\n",
       "    <tr>\n",
       "      <th>1</th>\n",
       "      <td>2</td>\n",
       "      <td>The best soundtrack ever to anything.</td>\n",
       "      <td>I'm reading a lot of reviews saying that this ...</td>\n",
       "    </tr>\n",
       "    <tr>\n",
       "      <th>2</th>\n",
       "      <td>2</td>\n",
       "      <td>Amazing!</td>\n",
       "      <td>This soundtrack is my favorite music of all ti...</td>\n",
       "    </tr>\n",
       "    <tr>\n",
       "      <th>3</th>\n",
       "      <td>2</td>\n",
       "      <td>Excellent Soundtrack</td>\n",
       "      <td>I truly like this soundtrack and I enjoy video...</td>\n",
       "    </tr>\n",
       "    <tr>\n",
       "      <th>4</th>\n",
       "      <td>2</td>\n",
       "      <td>Remember, Pull Your Jaw Off The Floor After He...</td>\n",
       "      <td>If you've played the game, you know how divine...</td>\n",
       "    </tr>\n",
       "    <tr>\n",
       "      <th>...</th>\n",
       "      <td>...</td>\n",
       "      <td>...</td>\n",
       "      <td>...</td>\n",
       "    </tr>\n",
       "    <tr>\n",
       "      <th>3599995</th>\n",
       "      <td>1</td>\n",
       "      <td>Don't do it!!</td>\n",
       "      <td>The high chair looks great when it first comes...</td>\n",
       "    </tr>\n",
       "    <tr>\n",
       "      <th>3599996</th>\n",
       "      <td>1</td>\n",
       "      <td>Looks nice, low functionality</td>\n",
       "      <td>I have used this highchair for 2 kids now and ...</td>\n",
       "    </tr>\n",
       "    <tr>\n",
       "      <th>3599997</th>\n",
       "      <td>1</td>\n",
       "      <td>compact, but hard to clean</td>\n",
       "      <td>We have a small house, and really wanted two o...</td>\n",
       "    </tr>\n",
       "    <tr>\n",
       "      <th>3599998</th>\n",
       "      <td>1</td>\n",
       "      <td>what is it saying?</td>\n",
       "      <td>not sure what this book is supposed to be. It ...</td>\n",
       "    </tr>\n",
       "    <tr>\n",
       "      <th>3599999</th>\n",
       "      <td>2</td>\n",
       "      <td>Makes My Blood Run Red-White-And-Blue</td>\n",
       "      <td>I agree that every American should read this b...</td>\n",
       "    </tr>\n",
       "  </tbody>\n",
       "</table>\n",
       "<p>3600000 rows × 3 columns</p>\n",
       "</div>"
      ],
      "text/plain": [
       "         polarity                                              title  \\\n",
       "0               2                     Stuning even for the non-gamer   \n",
       "1               2              The best soundtrack ever to anything.   \n",
       "2               2                                           Amazing!   \n",
       "3               2                               Excellent Soundtrack   \n",
       "4               2  Remember, Pull Your Jaw Off The Floor After He...   \n",
       "...           ...                                                ...   \n",
       "3599995         1                                      Don't do it!!   \n",
       "3599996         1                      Looks nice, low functionality   \n",
       "3599997         1                         compact, but hard to clean   \n",
       "3599998         1                                 what is it saying?   \n",
       "3599999         2              Makes My Blood Run Red-White-And-Blue   \n",
       "\n",
       "                                                      text  \n",
       "0        This sound track was beautiful! It paints the ...  \n",
       "1        I'm reading a lot of reviews saying that this ...  \n",
       "2        This soundtrack is my favorite music of all ti...  \n",
       "3        I truly like this soundtrack and I enjoy video...  \n",
       "4        If you've played the game, you know how divine...  \n",
       "...                                                    ...  \n",
       "3599995  The high chair looks great when it first comes...  \n",
       "3599996  I have used this highchair for 2 kids now and ...  \n",
       "3599997  We have a small house, and really wanted two o...  \n",
       "3599998  not sure what this book is supposed to be. It ...  \n",
       "3599999  I agree that every American should read this b...  \n",
       "\n",
       "[3600000 rows x 3 columns]"
      ]
     },
     "execution_count": 3,
     "metadata": {},
     "output_type": "execute_result"
    }
   ],
   "source": [
    "df"
   ]
  },
  {
   "cell_type": "code",
   "execution_count": 4,
   "metadata": {
    "gather": {
     "logged": 1633207348549
    },
    "jupyter": {
     "outputs_hidden": false,
     "source_hidden": false
    },
    "nteract": {
     "transient": {
      "deleting": false
     }
    }
   },
   "outputs": [],
   "source": [
    "#reading test dataset\n",
    "test_df = pd.read_csv(\"test.csv\",names=['polarity','title','text'])"
   ]
  },
  {
   "cell_type": "code",
   "execution_count": 5,
   "metadata": {
    "gather": {
     "logged": 1633207348770
    },
    "jupyter": {
     "outputs_hidden": false,
     "source_hidden": false
    },
    "nteract": {
     "transient": {
      "deleting": false
     }
    }
   },
   "outputs": [
    {
     "data": {
      "text/html": [
       "<div>\n",
       "<style scoped>\n",
       "    .dataframe tbody tr th:only-of-type {\n",
       "        vertical-align: middle;\n",
       "    }\n",
       "\n",
       "    .dataframe tbody tr th {\n",
       "        vertical-align: top;\n",
       "    }\n",
       "\n",
       "    .dataframe thead th {\n",
       "        text-align: right;\n",
       "    }\n",
       "</style>\n",
       "<table border=\"1\" class=\"dataframe\">\n",
       "  <thead>\n",
       "    <tr style=\"text-align: right;\">\n",
       "      <th></th>\n",
       "      <th>polarity</th>\n",
       "      <th>title</th>\n",
       "      <th>text</th>\n",
       "    </tr>\n",
       "  </thead>\n",
       "  <tbody>\n",
       "    <tr>\n",
       "      <th>0</th>\n",
       "      <td>2</td>\n",
       "      <td>Great CD</td>\n",
       "      <td>My lovely Pat has one of the GREAT voices of h...</td>\n",
       "    </tr>\n",
       "    <tr>\n",
       "      <th>1</th>\n",
       "      <td>2</td>\n",
       "      <td>One of the best game music soundtracks - for a...</td>\n",
       "      <td>Despite the fact that I have only played a sma...</td>\n",
       "    </tr>\n",
       "    <tr>\n",
       "      <th>2</th>\n",
       "      <td>1</td>\n",
       "      <td>Batteries died within a year ...</td>\n",
       "      <td>I bought this charger in Jul 2003 and it worke...</td>\n",
       "    </tr>\n",
       "    <tr>\n",
       "      <th>3</th>\n",
       "      <td>2</td>\n",
       "      <td>works fine, but Maha Energy is better</td>\n",
       "      <td>Check out Maha Energy's website. Their Powerex...</td>\n",
       "    </tr>\n",
       "    <tr>\n",
       "      <th>4</th>\n",
       "      <td>2</td>\n",
       "      <td>Great for the non-audiophile</td>\n",
       "      <td>Reviewed quite a bit of the combo players and ...</td>\n",
       "    </tr>\n",
       "    <tr>\n",
       "      <th>...</th>\n",
       "      <td>...</td>\n",
       "      <td>...</td>\n",
       "      <td>...</td>\n",
       "    </tr>\n",
       "    <tr>\n",
       "      <th>399995</th>\n",
       "      <td>1</td>\n",
       "      <td>Unbelievable- In a Bad Way</td>\n",
       "      <td>We bought this Thomas for our son who is a hug...</td>\n",
       "    </tr>\n",
       "    <tr>\n",
       "      <th>399996</th>\n",
       "      <td>1</td>\n",
       "      <td>Almost Great, Until it Broke...</td>\n",
       "      <td>My son recieved this as a birthday gift 2 mont...</td>\n",
       "    </tr>\n",
       "    <tr>\n",
       "      <th>399997</th>\n",
       "      <td>1</td>\n",
       "      <td>Disappointed !!!</td>\n",
       "      <td>I bought this toy for my son who loves the \"Th...</td>\n",
       "    </tr>\n",
       "    <tr>\n",
       "      <th>399998</th>\n",
       "      <td>2</td>\n",
       "      <td>Classic Jessica Mitford</td>\n",
       "      <td>This is a compilation of a wide range of Mitfo...</td>\n",
       "    </tr>\n",
       "    <tr>\n",
       "      <th>399999</th>\n",
       "      <td>1</td>\n",
       "      <td>Comedy Scene, and Not Heard</td>\n",
       "      <td>This DVD will be a disappointment if you get i...</td>\n",
       "    </tr>\n",
       "  </tbody>\n",
       "</table>\n",
       "<p>400000 rows × 3 columns</p>\n",
       "</div>"
      ],
      "text/plain": [
       "        polarity                                              title  \\\n",
       "0              2                                           Great CD   \n",
       "1              2  One of the best game music soundtracks - for a...   \n",
       "2              1                   Batteries died within a year ...   \n",
       "3              2              works fine, but Maha Energy is better   \n",
       "4              2                       Great for the non-audiophile   \n",
       "...          ...                                                ...   \n",
       "399995         1                         Unbelievable- In a Bad Way   \n",
       "399996         1                    Almost Great, Until it Broke...   \n",
       "399997         1                                   Disappointed !!!   \n",
       "399998         2                            Classic Jessica Mitford   \n",
       "399999         1                        Comedy Scene, and Not Heard   \n",
       "\n",
       "                                                     text  \n",
       "0       My lovely Pat has one of the GREAT voices of h...  \n",
       "1       Despite the fact that I have only played a sma...  \n",
       "2       I bought this charger in Jul 2003 and it worke...  \n",
       "3       Check out Maha Energy's website. Their Powerex...  \n",
       "4       Reviewed quite a bit of the combo players and ...  \n",
       "...                                                   ...  \n",
       "399995  We bought this Thomas for our son who is a hug...  \n",
       "399996  My son recieved this as a birthday gift 2 mont...  \n",
       "399997  I bought this toy for my son who loves the \"Th...  \n",
       "399998  This is a compilation of a wide range of Mitfo...  \n",
       "399999  This DVD will be a disappointment if you get i...  \n",
       "\n",
       "[400000 rows x 3 columns]"
      ]
     },
     "execution_count": 5,
     "metadata": {},
     "output_type": "execute_result"
    }
   ],
   "source": [
    "test_df"
   ]
  },
  {
   "cell_type": "code",
   "execution_count": 6,
   "metadata": {},
   "outputs": [
    {
     "name": "stderr",
     "output_type": "stream",
     "text": [
      "[nltk_data] Downloading package stopwords to\n",
      "[nltk_data]     /home/azureuser/nltk_data...\n",
      "[nltk_data]   Package stopwords is already up-to-date!\n",
      "[nltk_data] Downloading package punkt to /home/azureuser/nltk_data...\n",
      "[nltk_data]   Package punkt is already up-to-date!\n"
     ]
    },
    {
     "data": {
      "text/plain": [
       "True"
      ]
     },
     "execution_count": 6,
     "metadata": {},
     "output_type": "execute_result"
    }
   ],
   "source": [
    "import nltk\n",
    "nltk.download('stopwords')\n",
    "nltk.download('punkt')"
   ]
  },
  {
   "cell_type": "code",
   "execution_count": 9,
   "metadata": {},
   "outputs": [],
   "source": [
    "import string\n",
    "from nltk.stem import PorterStemmer\n",
    "import re\n",
    "from nltk.corpus import stopwords\n",
    "stopwords_eng = set(stopwords.words('english'))\n",
    "ps = PorterStemmer()"
   ]
  },
  {
   "cell_type": "code",
   "execution_count": 10,
   "metadata": {},
   "outputs": [],
   "source": [
    "#preprocessing\n",
    "def clean_text(text):\n",
    "    text = text.lower() #converting text to lowercase\n",
    "    text = ' '.join([i for i in nltk.word_tokenize(text) if i not in stopwords_eng and i not in string.punctuation]) #stopword and punct removal\n",
    "    text = re.sub('[^a-z]+', ' ', text) #removal of anything other than English letters\n",
    "    text = ' '.join([ps.stem(i) for i in nltk.word_tokenize(text)]) #stemming\n",
    "    return text"
   ]
  },
  {
   "cell_type": "code",
   "execution_count": 11,
   "metadata": {},
   "outputs": [
    {
     "data": {
      "text/html": [
       "<div>\n",
       "<style scoped>\n",
       "    .dataframe tbody tr th:only-of-type {\n",
       "        vertical-align: middle;\n",
       "    }\n",
       "\n",
       "    .dataframe tbody tr th {\n",
       "        vertical-align: top;\n",
       "    }\n",
       "\n",
       "    .dataframe thead th {\n",
       "        text-align: right;\n",
       "    }\n",
       "</style>\n",
       "<table border=\"1\" class=\"dataframe\">\n",
       "  <thead>\n",
       "    <tr style=\"text-align: right;\">\n",
       "      <th></th>\n",
       "      <th>polarity</th>\n",
       "      <th>title</th>\n",
       "      <th>text</th>\n",
       "      <th>CleanText</th>\n",
       "    </tr>\n",
       "  </thead>\n",
       "  <tbody>\n",
       "    <tr>\n",
       "      <th>0</th>\n",
       "      <td>2</td>\n",
       "      <td>Stuning even for the non-gamer</td>\n",
       "      <td>This sound track was beautiful! It paints the ...</td>\n",
       "      <td>sound track beauti paint seneri mind well woul...</td>\n",
       "    </tr>\n",
       "    <tr>\n",
       "      <th>1</th>\n",
       "      <td>2</td>\n",
       "      <td>The best soundtrack ever to anything.</td>\n",
       "      <td>I'm reading a lot of reviews saying that this ...</td>\n",
       "      <td>m read lot review say best game soundtrack fig...</td>\n",
       "    </tr>\n",
       "    <tr>\n",
       "      <th>2</th>\n",
       "      <td>2</td>\n",
       "      <td>Amazing!</td>\n",
       "      <td>This soundtrack is my favorite music of all ti...</td>\n",
       "      <td>soundtrack favorit music time hand intens sad ...</td>\n",
       "    </tr>\n",
       "  </tbody>\n",
       "</table>\n",
       "</div>"
      ],
      "text/plain": [
       "   polarity                                  title  \\\n",
       "0         2         Stuning even for the non-gamer   \n",
       "1         2  The best soundtrack ever to anything.   \n",
       "2         2                               Amazing!   \n",
       "\n",
       "                                                text  \\\n",
       "0  This sound track was beautiful! It paints the ...   \n",
       "1  I'm reading a lot of reviews saying that this ...   \n",
       "2  This soundtrack is my favorite music of all ti...   \n",
       "\n",
       "                                           CleanText  \n",
       "0  sound track beauti paint seneri mind well woul...  \n",
       "1  m read lot review say best game soundtrack fig...  \n",
       "2  soundtrack favorit music time hand intens sad ...  "
      ]
     },
     "execution_count": 11,
     "metadata": {},
     "output_type": "execute_result"
    }
   ],
   "source": [
    "df['CleanText'] = df['text'].apply(lambda x: clean_text(x))\n",
    "df.head(3)"
   ]
  },
  {
   "cell_type": "code",
   "execution_count": 12,
   "metadata": {},
   "outputs": [
    {
     "data": {
      "text/html": [
       "<div>\n",
       "<style scoped>\n",
       "    .dataframe tbody tr th:only-of-type {\n",
       "        vertical-align: middle;\n",
       "    }\n",
       "\n",
       "    .dataframe tbody tr th {\n",
       "        vertical-align: top;\n",
       "    }\n",
       "\n",
       "    .dataframe thead th {\n",
       "        text-align: right;\n",
       "    }\n",
       "</style>\n",
       "<table border=\"1\" class=\"dataframe\">\n",
       "  <thead>\n",
       "    <tr style=\"text-align: right;\">\n",
       "      <th></th>\n",
       "      <th>polarity</th>\n",
       "      <th>title</th>\n",
       "      <th>text</th>\n",
       "      <th>CleanText</th>\n",
       "    </tr>\n",
       "  </thead>\n",
       "  <tbody>\n",
       "    <tr>\n",
       "      <th>0</th>\n",
       "      <td>2</td>\n",
       "      <td>Stuning even for the non-gamer</td>\n",
       "      <td>This sound track was beautiful! It paints the ...</td>\n",
       "      <td>sound track beauti paint seneri mind well woul...</td>\n",
       "    </tr>\n",
       "    <tr>\n",
       "      <th>1</th>\n",
       "      <td>2</td>\n",
       "      <td>The best soundtrack ever to anything.</td>\n",
       "      <td>I'm reading a lot of reviews saying that this ...</td>\n",
       "      <td>m read lot review say best game soundtrack fig...</td>\n",
       "    </tr>\n",
       "    <tr>\n",
       "      <th>2</th>\n",
       "      <td>2</td>\n",
       "      <td>Amazing!</td>\n",
       "      <td>This soundtrack is my favorite music of all ti...</td>\n",
       "      <td>soundtrack favorit music time hand intens sad ...</td>\n",
       "    </tr>\n",
       "    <tr>\n",
       "      <th>3</th>\n",
       "      <td>2</td>\n",
       "      <td>Excellent Soundtrack</td>\n",
       "      <td>I truly like this soundtrack and I enjoy video...</td>\n",
       "      <td>truli like soundtrack enjoy video game music p...</td>\n",
       "    </tr>\n",
       "    <tr>\n",
       "      <th>4</th>\n",
       "      <td>2</td>\n",
       "      <td>Remember, Pull Your Jaw Off The Floor After He...</td>\n",
       "      <td>If you've played the game, you know how divine...</td>\n",
       "      <td>ve play game know divin music everi singl song...</td>\n",
       "    </tr>\n",
       "    <tr>\n",
       "      <th>...</th>\n",
       "      <td>...</td>\n",
       "      <td>...</td>\n",
       "      <td>...</td>\n",
       "      <td>...</td>\n",
       "    </tr>\n",
       "    <tr>\n",
       "      <th>3599995</th>\n",
       "      <td>1</td>\n",
       "      <td>Don't do it!!</td>\n",
       "      <td>The high chair looks great when it first comes...</td>\n",
       "      <td>high chair look great first come box hill impo...</td>\n",
       "    </tr>\n",
       "    <tr>\n",
       "      <th>3599996</th>\n",
       "      <td>1</td>\n",
       "      <td>Looks nice, low functionality</td>\n",
       "      <td>I have used this highchair for 2 kids now and ...</td>\n",
       "      <td>use highchair kid final decid sell like s beau...</td>\n",
       "    </tr>\n",
       "    <tr>\n",
       "      <th>3599997</th>\n",
       "      <td>1</td>\n",
       "      <td>compact, but hard to clean</td>\n",
       "      <td>We have a small house, and really wanted two o...</td>\n",
       "      <td>small hous realli want two high chair twin spa...</td>\n",
       "    </tr>\n",
       "    <tr>\n",
       "      <th>3599998</th>\n",
       "      <td>1</td>\n",
       "      <td>what is it saying?</td>\n",
       "      <td>not sure what this book is supposed to be. It ...</td>\n",
       "      <td>sure book suppos realli rehash old idea carrol...</td>\n",
       "    </tr>\n",
       "    <tr>\n",
       "      <th>3599999</th>\n",
       "      <td>2</td>\n",
       "      <td>Makes My Blood Run Red-White-And-Blue</td>\n",
       "      <td>I agree that every American should read this b...</td>\n",
       "      <td>agre everi american read book everybodi els ma...</td>\n",
       "    </tr>\n",
       "  </tbody>\n",
       "</table>\n",
       "<p>3600000 rows × 4 columns</p>\n",
       "</div>"
      ],
      "text/plain": [
       "         polarity                                              title  \\\n",
       "0               2                     Stuning even for the non-gamer   \n",
       "1               2              The best soundtrack ever to anything.   \n",
       "2               2                                           Amazing!   \n",
       "3               2                               Excellent Soundtrack   \n",
       "4               2  Remember, Pull Your Jaw Off The Floor After He...   \n",
       "...           ...                                                ...   \n",
       "3599995         1                                      Don't do it!!   \n",
       "3599996         1                      Looks nice, low functionality   \n",
       "3599997         1                         compact, but hard to clean   \n",
       "3599998         1                                 what is it saying?   \n",
       "3599999         2              Makes My Blood Run Red-White-And-Blue   \n",
       "\n",
       "                                                      text  \\\n",
       "0        This sound track was beautiful! It paints the ...   \n",
       "1        I'm reading a lot of reviews saying that this ...   \n",
       "2        This soundtrack is my favorite music of all ti...   \n",
       "3        I truly like this soundtrack and I enjoy video...   \n",
       "4        If you've played the game, you know how divine...   \n",
       "...                                                    ...   \n",
       "3599995  The high chair looks great when it first comes...   \n",
       "3599996  I have used this highchair for 2 kids now and ...   \n",
       "3599997  We have a small house, and really wanted two o...   \n",
       "3599998  not sure what this book is supposed to be. It ...   \n",
       "3599999  I agree that every American should read this b...   \n",
       "\n",
       "                                                 CleanText  \n",
       "0        sound track beauti paint seneri mind well woul...  \n",
       "1        m read lot review say best game soundtrack fig...  \n",
       "2        soundtrack favorit music time hand intens sad ...  \n",
       "3        truli like soundtrack enjoy video game music p...  \n",
       "4        ve play game know divin music everi singl song...  \n",
       "...                                                    ...  \n",
       "3599995  high chair look great first come box hill impo...  \n",
       "3599996  use highchair kid final decid sell like s beau...  \n",
       "3599997  small hous realli want two high chair twin spa...  \n",
       "3599998  sure book suppos realli rehash old idea carrol...  \n",
       "3599999  agre everi american read book everybodi els ma...  \n",
       "\n",
       "[3600000 rows x 4 columns]"
      ]
     },
     "execution_count": 12,
     "metadata": {},
     "output_type": "execute_result"
    }
   ],
   "source": [
    "df"
   ]
  },
  {
   "cell_type": "code",
   "execution_count": 13,
   "metadata": {},
   "outputs": [
    {
     "data": {
      "text/html": [
       "<div>\n",
       "<style scoped>\n",
       "    .dataframe tbody tr th:only-of-type {\n",
       "        vertical-align: middle;\n",
       "    }\n",
       "\n",
       "    .dataframe tbody tr th {\n",
       "        vertical-align: top;\n",
       "    }\n",
       "\n",
       "    .dataframe thead th {\n",
       "        text-align: right;\n",
       "    }\n",
       "</style>\n",
       "<table border=\"1\" class=\"dataframe\">\n",
       "  <thead>\n",
       "    <tr style=\"text-align: right;\">\n",
       "      <th></th>\n",
       "      <th>polarity</th>\n",
       "      <th>title</th>\n",
       "      <th>text</th>\n",
       "      <th>CleanText</th>\n",
       "    </tr>\n",
       "  </thead>\n",
       "  <tbody>\n",
       "    <tr>\n",
       "      <th>0</th>\n",
       "      <td>2</td>\n",
       "      <td>Great CD</td>\n",
       "      <td>My lovely Pat has one of the GREAT voices of h...</td>\n",
       "      <td>love pat one great voic gener listen cd year s...</td>\n",
       "    </tr>\n",
       "    <tr>\n",
       "      <th>1</th>\n",
       "      <td>2</td>\n",
       "      <td>One of the best game music soundtracks - for a...</td>\n",
       "      <td>Despite the fact that I have only played a sma...</td>\n",
       "      <td>despit fact play small portion game music hear...</td>\n",
       "    </tr>\n",
       "    <tr>\n",
       "      <th>2</th>\n",
       "      <td>1</td>\n",
       "      <td>Batteries died within a year ...</td>\n",
       "      <td>I bought this charger in Jul 2003 and it worke...</td>\n",
       "      <td>bought charger jul work ok design nice conveni...</td>\n",
       "    </tr>\n",
       "  </tbody>\n",
       "</table>\n",
       "</div>"
      ],
      "text/plain": [
       "   polarity                                              title  \\\n",
       "0         2                                           Great CD   \n",
       "1         2  One of the best game music soundtracks - for a...   \n",
       "2         1                   Batteries died within a year ...   \n",
       "\n",
       "                                                text  \\\n",
       "0  My lovely Pat has one of the GREAT voices of h...   \n",
       "1  Despite the fact that I have only played a sma...   \n",
       "2  I bought this charger in Jul 2003 and it worke...   \n",
       "\n",
       "                                           CleanText  \n",
       "0  love pat one great voic gener listen cd year s...  \n",
       "1  despit fact play small portion game music hear...  \n",
       "2  bought charger jul work ok design nice conveni...  "
      ]
     },
     "execution_count": 13,
     "metadata": {},
     "output_type": "execute_result"
    }
   ],
   "source": [
    "test_df['CleanText'] = test_df['text'].apply(lambda x: clean_text(x))\n",
    "test_df.head(3)"
   ]
  },
  {
   "cell_type": "code",
   "execution_count": 14,
   "metadata": {},
   "outputs": [
    {
     "data": {
      "text/html": [
       "<div>\n",
       "<style scoped>\n",
       "    .dataframe tbody tr th:only-of-type {\n",
       "        vertical-align: middle;\n",
       "    }\n",
       "\n",
       "    .dataframe tbody tr th {\n",
       "        vertical-align: top;\n",
       "    }\n",
       "\n",
       "    .dataframe thead th {\n",
       "        text-align: right;\n",
       "    }\n",
       "</style>\n",
       "<table border=\"1\" class=\"dataframe\">\n",
       "  <thead>\n",
       "    <tr style=\"text-align: right;\">\n",
       "      <th></th>\n",
       "      <th>polarity</th>\n",
       "      <th>title</th>\n",
       "      <th>text</th>\n",
       "      <th>CleanText</th>\n",
       "    </tr>\n",
       "  </thead>\n",
       "  <tbody>\n",
       "    <tr>\n",
       "      <th>0</th>\n",
       "      <td>2</td>\n",
       "      <td>Great CD</td>\n",
       "      <td>My lovely Pat has one of the GREAT voices of h...</td>\n",
       "      <td>love pat one great voic gener listen cd year s...</td>\n",
       "    </tr>\n",
       "    <tr>\n",
       "      <th>1</th>\n",
       "      <td>2</td>\n",
       "      <td>One of the best game music soundtracks - for a...</td>\n",
       "      <td>Despite the fact that I have only played a sma...</td>\n",
       "      <td>despit fact play small portion game music hear...</td>\n",
       "    </tr>\n",
       "    <tr>\n",
       "      <th>2</th>\n",
       "      <td>1</td>\n",
       "      <td>Batteries died within a year ...</td>\n",
       "      <td>I bought this charger in Jul 2003 and it worke...</td>\n",
       "      <td>bought charger jul work ok design nice conveni...</td>\n",
       "    </tr>\n",
       "    <tr>\n",
       "      <th>3</th>\n",
       "      <td>2</td>\n",
       "      <td>works fine, but Maha Energy is better</td>\n",
       "      <td>Check out Maha Energy's website. Their Powerex...</td>\n",
       "      <td>check maha energi s websit powerex mh c f char...</td>\n",
       "    </tr>\n",
       "    <tr>\n",
       "      <th>4</th>\n",
       "      <td>2</td>\n",
       "      <td>Great for the non-audiophile</td>\n",
       "      <td>Reviewed quite a bit of the combo players and ...</td>\n",
       "      <td>review quit bit combo player hesit due unfavor...</td>\n",
       "    </tr>\n",
       "    <tr>\n",
       "      <th>...</th>\n",
       "      <td>...</td>\n",
       "      <td>...</td>\n",
       "      <td>...</td>\n",
       "      <td>...</td>\n",
       "    </tr>\n",
       "    <tr>\n",
       "      <th>399995</th>\n",
       "      <td>1</td>\n",
       "      <td>Unbelievable- In a Bad Way</td>\n",
       "      <td>We bought this Thomas for our son who is a hug...</td>\n",
       "      <td>bought thoma son huge thoma fan huge set room ...</td>\n",
       "    </tr>\n",
       "    <tr>\n",
       "      <th>399996</th>\n",
       "      <td>1</td>\n",
       "      <td>Almost Great, Until it Broke...</td>\n",
       "      <td>My son recieved this as a birthday gift 2 mont...</td>\n",
       "      <td>son reciev birthday gift month ago love even t...</td>\n",
       "    </tr>\n",
       "    <tr>\n",
       "      <th>399997</th>\n",
       "      <td>1</td>\n",
       "      <td>Disappointed !!!</td>\n",
       "      <td>I bought this toy for my son who loves the \"Th...</td>\n",
       "      <td>bought toy son love thoma toy need one batteri...</td>\n",
       "    </tr>\n",
       "    <tr>\n",
       "      <th>399998</th>\n",
       "      <td>2</td>\n",
       "      <td>Classic Jessica Mitford</td>\n",
       "      <td>This is a compilation of a wide range of Mitfo...</td>\n",
       "      <td>compil wide rang mitford s articl best skewer ...</td>\n",
       "    </tr>\n",
       "    <tr>\n",
       "      <th>399999</th>\n",
       "      <td>1</td>\n",
       "      <td>Comedy Scene, and Not Heard</td>\n",
       "      <td>This DVD will be a disappointment if you get i...</td>\n",
       "      <td>dvd disappoint get hope see substanti portion ...</td>\n",
       "    </tr>\n",
       "  </tbody>\n",
       "</table>\n",
       "<p>400000 rows × 4 columns</p>\n",
       "</div>"
      ],
      "text/plain": [
       "        polarity                                              title  \\\n",
       "0              2                                           Great CD   \n",
       "1              2  One of the best game music soundtracks - for a...   \n",
       "2              1                   Batteries died within a year ...   \n",
       "3              2              works fine, but Maha Energy is better   \n",
       "4              2                       Great for the non-audiophile   \n",
       "...          ...                                                ...   \n",
       "399995         1                         Unbelievable- In a Bad Way   \n",
       "399996         1                    Almost Great, Until it Broke...   \n",
       "399997         1                                   Disappointed !!!   \n",
       "399998         2                            Classic Jessica Mitford   \n",
       "399999         1                        Comedy Scene, and Not Heard   \n",
       "\n",
       "                                                     text  \\\n",
       "0       My lovely Pat has one of the GREAT voices of h...   \n",
       "1       Despite the fact that I have only played a sma...   \n",
       "2       I bought this charger in Jul 2003 and it worke...   \n",
       "3       Check out Maha Energy's website. Their Powerex...   \n",
       "4       Reviewed quite a bit of the combo players and ...   \n",
       "...                                                   ...   \n",
       "399995  We bought this Thomas for our son who is a hug...   \n",
       "399996  My son recieved this as a birthday gift 2 mont...   \n",
       "399997  I bought this toy for my son who loves the \"Th...   \n",
       "399998  This is a compilation of a wide range of Mitfo...   \n",
       "399999  This DVD will be a disappointment if you get i...   \n",
       "\n",
       "                                                CleanText  \n",
       "0       love pat one great voic gener listen cd year s...  \n",
       "1       despit fact play small portion game music hear...  \n",
       "2       bought charger jul work ok design nice conveni...  \n",
       "3       check maha energi s websit powerex mh c f char...  \n",
       "4       review quit bit combo player hesit due unfavor...  \n",
       "...                                                   ...  \n",
       "399995  bought thoma son huge thoma fan huge set room ...  \n",
       "399996  son reciev birthday gift month ago love even t...  \n",
       "399997  bought toy son love thoma toy need one batteri...  \n",
       "399998  compil wide rang mitford s articl best skewer ...  \n",
       "399999  dvd disappoint get hope see substanti portion ...  \n",
       "\n",
       "[400000 rows x 4 columns]"
      ]
     },
     "execution_count": 14,
     "metadata": {},
     "output_type": "execute_result"
    }
   ],
   "source": [
    "test_df"
   ]
  },
  {
   "cell_type": "code",
   "execution_count": 19,
   "metadata": {},
   "outputs": [],
   "source": [
    "cleaned_train_df =  df.drop([\"title\",\"text\"],axis=1)"
   ]
  },
  {
   "cell_type": "code",
   "execution_count": 31,
   "metadata": {},
   "outputs": [
    {
     "data": {
      "text/plain": [
       "polarity      0\n",
       "CleanText    19\n",
       "dtype: int64"
      ]
     },
     "execution_count": 31,
     "metadata": {},
     "output_type": "execute_result"
    }
   ],
   "source": [
    "cleaned_train_df.isnull().sum()"
   ]
  },
  {
   "cell_type": "code",
   "execution_count": 35,
   "metadata": {},
   "outputs": [
    {
     "data": {
      "text/plain": [
       "polarity     0\n",
       "CleanText    0\n",
       "dtype: int64"
      ]
     },
     "execution_count": 35,
     "metadata": {},
     "output_type": "execute_result"
    }
   ],
   "source": [
    "cleaned_train_df = cleaned_train_df.fillna(cleaned_train_df.mode().iloc[0])\n",
    "cleaned_train_df.isnull().sum()"
   ]
  },
  {
   "cell_type": "code",
   "execution_count": 36,
   "metadata": {},
   "outputs": [],
   "source": [
    "cleaned_train_df.to_csv(\"cleaned_train.csv\",index=False)"
   ]
  },
  {
   "cell_type": "code",
   "execution_count": 37,
   "metadata": {},
   "outputs": [
    {
     "data": {
      "text/html": [
       "<div>\n",
       "<style scoped>\n",
       "    .dataframe tbody tr th:only-of-type {\n",
       "        vertical-align: middle;\n",
       "    }\n",
       "\n",
       "    .dataframe tbody tr th {\n",
       "        vertical-align: top;\n",
       "    }\n",
       "\n",
       "    .dataframe thead th {\n",
       "        text-align: right;\n",
       "    }\n",
       "</style>\n",
       "<table border=\"1\" class=\"dataframe\">\n",
       "  <thead>\n",
       "    <tr style=\"text-align: right;\">\n",
       "      <th></th>\n",
       "      <th>polarity</th>\n",
       "      <th>CleanText</th>\n",
       "    </tr>\n",
       "  </thead>\n",
       "  <tbody>\n",
       "    <tr>\n",
       "      <th>0</th>\n",
       "      <td>2</td>\n",
       "      <td>sound track beauti paint seneri mind well woul...</td>\n",
       "    </tr>\n",
       "    <tr>\n",
       "      <th>1</th>\n",
       "      <td>2</td>\n",
       "      <td>m read lot review say best game soundtrack fig...</td>\n",
       "    </tr>\n",
       "    <tr>\n",
       "      <th>2</th>\n",
       "      <td>2</td>\n",
       "      <td>soundtrack favorit music time hand intens sad ...</td>\n",
       "    </tr>\n",
       "    <tr>\n",
       "      <th>3</th>\n",
       "      <td>2</td>\n",
       "      <td>truli like soundtrack enjoy video game music p...</td>\n",
       "    </tr>\n",
       "    <tr>\n",
       "      <th>4</th>\n",
       "      <td>2</td>\n",
       "      <td>ve play game know divin music everi singl song...</td>\n",
       "    </tr>\n",
       "  </tbody>\n",
       "</table>\n",
       "</div>"
      ],
      "text/plain": [
       "   polarity                                          CleanText\n",
       "0         2  sound track beauti paint seneri mind well woul...\n",
       "1         2  m read lot review say best game soundtrack fig...\n",
       "2         2  soundtrack favorit music time hand intens sad ...\n",
       "3         2  truli like soundtrack enjoy video game music p...\n",
       "4         2  ve play game know divin music everi singl song..."
      ]
     },
     "execution_count": 37,
     "metadata": {},
     "output_type": "execute_result"
    }
   ],
   "source": [
    "cleaned_train_df =  pd.read_csv(\"cleaned_train.csv\")\n",
    "cleaned_train_df.head()"
   ]
  },
  {
   "cell_type": "code",
   "execution_count": 39,
   "metadata": {},
   "outputs": [],
   "source": [
    "cleaned_test_df =  test_df.drop([\"title\",\"text\"],axis=1)"
   ]
  },
  {
   "cell_type": "code",
   "execution_count": 40,
   "metadata": {},
   "outputs": [
    {
     "data": {
      "text/plain": [
       "polarity     0\n",
       "CleanText    0\n",
       "dtype: int64"
      ]
     },
     "execution_count": 40,
     "metadata": {},
     "output_type": "execute_result"
    }
   ],
   "source": [
    "cleaned_train_df.isnull().sum()"
   ]
  },
  {
   "cell_type": "code",
   "execution_count": 42,
   "metadata": {},
   "outputs": [],
   "source": [
    "cleaned_test_df.to_csv(\"cleaned_test.csv\",index=False)"
   ]
  },
  {
   "cell_type": "code",
   "execution_count": 43,
   "metadata": {},
   "outputs": [
    {
     "data": {
      "text/html": [
       "<div>\n",
       "<style scoped>\n",
       "    .dataframe tbody tr th:only-of-type {\n",
       "        vertical-align: middle;\n",
       "    }\n",
       "\n",
       "    .dataframe tbody tr th {\n",
       "        vertical-align: top;\n",
       "    }\n",
       "\n",
       "    .dataframe thead th {\n",
       "        text-align: right;\n",
       "    }\n",
       "</style>\n",
       "<table border=\"1\" class=\"dataframe\">\n",
       "  <thead>\n",
       "    <tr style=\"text-align: right;\">\n",
       "      <th></th>\n",
       "      <th>polarity</th>\n",
       "      <th>CleanText</th>\n",
       "    </tr>\n",
       "  </thead>\n",
       "  <tbody>\n",
       "    <tr>\n",
       "      <th>0</th>\n",
       "      <td>2</td>\n",
       "      <td>love pat one great voic gener listen cd year s...</td>\n",
       "    </tr>\n",
       "    <tr>\n",
       "      <th>1</th>\n",
       "      <td>2</td>\n",
       "      <td>despit fact play small portion game music hear...</td>\n",
       "    </tr>\n",
       "    <tr>\n",
       "      <th>2</th>\n",
       "      <td>1</td>\n",
       "      <td>bought charger jul work ok design nice conveni...</td>\n",
       "    </tr>\n",
       "    <tr>\n",
       "      <th>3</th>\n",
       "      <td>2</td>\n",
       "      <td>check maha energi s websit powerex mh c f char...</td>\n",
       "    </tr>\n",
       "    <tr>\n",
       "      <th>4</th>\n",
       "      <td>2</td>\n",
       "      <td>review quit bit combo player hesit due unfavor...</td>\n",
       "    </tr>\n",
       "  </tbody>\n",
       "</table>\n",
       "</div>"
      ],
      "text/plain": [
       "   polarity                                          CleanText\n",
       "0         2  love pat one great voic gener listen cd year s...\n",
       "1         2  despit fact play small portion game music hear...\n",
       "2         1  bought charger jul work ok design nice conveni...\n",
       "3         2  check maha energi s websit powerex mh c f char...\n",
       "4         2  review quit bit combo player hesit due unfavor..."
      ]
     },
     "execution_count": 43,
     "metadata": {},
     "output_type": "execute_result"
    }
   ],
   "source": [
    "cleaned_test_df =  pd.read_csv(\"cleaned_test.csv\")\n",
    "cleaned_test_df.head()"
   ]
  },
  {
   "cell_type": "code",
   "execution_count": 44,
   "metadata": {},
   "outputs": [],
   "source": [
    "# Spliting into train and test \n",
    "X_train, X_test, y_train, y_test = train_test_split(cleaned_train_df['CleanText'], cleaned_train_df['polarity'],test_size=0.3)"
   ]
  },
  {
   "cell_type": "code",
   "execution_count": 55,
   "metadata": {},
   "outputs": [
    {
     "data": {
      "text/plain": [
       "((2520000, 532088), (1080000, 532088))"
      ]
     },
     "execution_count": 55,
     "metadata": {},
     "output_type": "execute_result"
    }
   ],
   "source": [
    "tfidf_vectoriser.fit(X_train)\n",
    "X_train_tf = tfidf_vectoriser.transform(X_train)\n",
    "X_test_tf = tfidf_vectoriser.transform(X_test)\n",
    "X_train_tf.shape, X_test_tf.shape"
   ]
  },
  {
   "cell_type": "code",
   "execution_count": 62,
   "metadata": {},
   "outputs": [],
   "source": [
    "x_df = pd.DataFrame.sparse.from_spmatrix(X_train_tf)"
   ]
  },
  {
   "cell_type": "code",
   "execution_count": 66,
   "metadata": {},
   "outputs": [
    {
     "data": {
      "text/plain": [
       "[0.0, 0.15261764631395444, 0.17427592543207696, 0.15940537348951192, 0.10177887695993312, 0.1362588074036187, 0.20115265333012758, 0.13642276186605076, 0.14381362944554546, 0.2464166472651203, 0.1960174966300764, 0.16423129783484638, 0.13471633776987177, 0.14318962390842516, 0.42389965291953374, 0.15092619848943747, 0.17004491617351497, 0.1649577416168767, 0.18110088021135137, 0.12465865115282301, 0.12221772105804919, 0.17921973844394612, 0.29666284637917095, 0.11346463931237223, 0.14844461804546216, 0.21795267352614253, 0.2830913999720337, 0.2334006804123747, 0.14588496824221434, 0.21079344135437494, 0.09673834386554558, 0.16969953489679343, 0.3233566509329279, 0.2040014628671851, 0.21660401511168284, 0.4622736143627706, 0.2583945433472138, 0.47792685910281363, 0.26936809179104987, 0.17532418166494135, 0.20963140500433544, 0.12006656937827329, 0.304867810108639, 0.22611331363064022, 0.15491716010350814, 0.22506273208243655, 0.2188289866309448, 0.11981580867814814, 0.1963468723218713, 0.13653071215525983, 0.1282722593033976, 0.24771930179772014, 0.17196964949785554, 0.305335807892233, 0.3161390333149389, 0.17565480904954403, 0.21799474589293474, 0.27117984311479093, 0.21901734171953008, 0.25747877281028075, 0.23825943880376096, 0.18004967221014467, 0.1934301581260741, 0.1485252383761254, 0.3904346769554195, 0.15766519695237682, 0.20876416053020158, 0.3987677341393541, 0.16771688333367282, 0.3724155041367479, 0.15293449367202383, 0.43493986953891334, 0.2868889918274732, 0.22466669753058938, 0.3876598009838553, 0.2184458688780863, 0.14598025388514635, 0.2360323876921202, 0.1921252923557579, 0.1721947680635647, 0.16776750076540814, 0.14403623091122955, 0.20291132856809632, 0.1727673696352629, 0.19155305187535387, 0.144293992005703, 0.14311256358618196, 0.11009922557956722, 0.4150032453496233, 0.12862914084141866, 0.4201727917730175, 0.17127932359940956, 0.33407884592692305, 0.19541615688165298, 0.18001012525381022, 0.28268767190929844, 0.1991635608836882, 0.1892049066089043, 0.1847081701165545, 0.13969114188863005, ...]\n",
       "Fill: 0.0\n",
       "IntIndex\n",
       "Indices: array([   1,    2,    3, ..., 1158, 1159, 1160], dtype=int32)"
      ]
     },
     "execution_count": 66,
     "metadata": {},
     "output_type": "execute_result"
    }
   ],
   "source": [
    "x_df[1].unique()"
   ]
  },
  {
   "cell_type": "code",
   "execution_count": 45,
   "metadata": {},
   "outputs": [],
   "source": [
    "from sklearn.feature_extraction.text import TfidfVectorizer\n",
    "tfidf_vectoriser = TfidfVectorizer()\n",
    "\n",
    "# Training % Feature Extraction On Entire Dataset, Used For Cross Validation & Model Comparison\n",
    "features = tfidf_vectoriser.fit_transform(cleaned_train_df['CleanText'])\n",
    "labels = cleaned_train_df['polarity'].astype(int)"
   ]
  },
  {
   "cell_type": "code",
   "execution_count": null,
   "metadata": {},
   "outputs": [],
   "source": [
    "features_test = tfidf_vectoriser.fit_transform(cleaned_test_df['CleanText'])\n",
    "labels_test = cleaned_test_df['polarity'].astype(int)"
   ]
  },
  {
   "cell_type": "code",
   "execution_count": 70,
   "metadata": {},
   "outputs": [],
   "source": [
    "from sklearn.svm import SVC\n",
    "from sklearn.model_selection import GridSearchCV\n",
    "from sklearn.model_selection import StratifiedShuffleSplit"
   ]
  },
  {
   "cell_type": "code",
   "execution_count": null,
   "metadata": {},
   "outputs": [],
   "source": [
    "#finding the best Kernal and Hyper Parameters\n",
    "def kernalHyperTuning(X,y,tuned_parameters):\n",
    "    # using dict to store the score with hyperparameters\n",
    "    bestKernalParams = {}\n",
    "    \n",
    "    # traversing through each kernal to find the best one\n",
    "    for kernelParameters in tuned_parameters:\n",
    "        cv = StratifiedShuffleSplit(n_splits=5, test_size=0.3, random_state=42)\n",
    "        grid = GridSearchCV(SVC(), param_grid=kernelParameters, cv=cv)\n",
    "        grid.fit(X, y)\n",
    "        # print best kernal and parameter after tuning \n",
    "        print(f\"Kernel: {grid.best_params_['kernel']} \")\n",
    "        print(f\"The best parameters are {grid.best_params_} with a score of {grid.best_score_}\")\n",
    "        # adding to the best kernel based on the score\n",
    "        if grid.best_score_ in bestKernalParams:\n",
    "            bestKernalParams[grid.best_score_].append(grid.best_params_)\n",
    "        else:\n",
    "            bestKernalParams[grid.best_score_] = [grid.best_params_]\n",
    "        # avoiding key error for decision plot\n",
    "        if 'degree' in grid.best_params_:\n",
    "            clf_best = SVC(kernel=grid.best_params_['kernel'], gamma=grid.best_params_['gamma'], C=grid.best_params_['C'],degree=grid.best_params_['degree'])\n",
    "        elif 'gamma' in grid.best_params_:\n",
    "            clf_best = SVC(kernel=grid.best_params_['kernel'], gamma=grid.best_params_['gamma'], C=grid.best_params_['C'])\n",
    "        else:\n",
    "            clf_best = SVC(kernel=grid.best_params_['kernel'], C=grid.best_params_['C'])\n",
    "        # fitting best clf for decision plot\n",
    "        clf_best.fit(features, labels)\n",
    "    \n",
    "        \n",
    "    #finding the best score and returing the best hyperparameters and kernal\n",
    "    bestScore = max(list(bestKernalParams.keys()))\n",
    "    print(bestKernalParams)\n",
    "    return bestKernalParams[bestScore],bestScore\n",
    "\n",
    "# setting up the hyper parameters\n",
    "tuned_parameters = [{'kernel': ['poly'],'gamma': [0.1,0.01,0.001],'degree':[2,3,4],'C':[1,10,100,1000]},\n",
    "                   {'kernel': ['linear'],'C': [1,10,100,1000]},\n",
    "                   {'kernel': ['rbf'], 'gamma': [0.1,0.01,0.001],'C': [1,10,100,1000]}]\n",
    "#calling the kernalHyperTuning and getting the best parameters\n",
    "parameters, score = kernalHyperTuning(features,labels,tuned_parameters)\n",
    "for parameter in parameters:\n",
    "    print(f\"\\n Best Kernel {parameter['kernel'] } with hyperparameters {parameter}\")"
   ]
  },
  {
   "cell_type": "code",
   "execution_count": null,
   "metadata": {},
   "outputs": [],
   "source": [
    "print(parameters[0]['kernel'])\n",
    "clf_best = SVC(kernel=parameters[0]['kernel'], C=parameters[0]['C'], gamma=parameters[0]['gamma'])\n",
    "clf_best.fit(features, labels)"
   ]
  },
  {
   "cell_type": "code",
   "execution_count": null,
   "metadata": {},
   "outputs": [],
   "source": [
    "#Print the confusion matrix, accuracy scores for both the training and the test data points given in the two CSV files\n",
    "print(\"Confusion Matrix Train\")\n",
    "print(confusion_matrix(labels, clf_best.predict(features)))\n",
    "\n",
    "print(\"Confusion Matrix Test\")\n",
    "print(confusion_matrix(labels_test, clf_best.predict(features_test)))\n",
    "print(\"Accuracy Scores Train\")\n",
    "print(accuracy_score(labels, clf_best.predict(features)))\n",
    "\n",
    "print(\"Accuracy Scores Test\")\n",
    "print(accuracy_score(labels_test, clf_best.predict(features_test)))"
   ]
  },
  {
   "cell_type": "code",
   "execution_count": null,
   "metadata": {},
   "outputs": [],
   "source": []
  }
 ],
 "metadata": {
  "kernel_info": {
   "name": "python3-azureml"
  },
  "kernelspec": {
   "display_name": "Python 3.6 - AzureML",
   "language": "python",
   "name": "python3-azureml"
  },
  "language_info": {
   "codemirror_mode": {
    "name": "ipython",
    "version": 3
   },
   "file_extension": ".py",
   "mimetype": "text/x-python",
   "name": "python",
   "nbconvert_exporter": "python",
   "pygments_lexer": "ipython3",
   "version": "3.6.9"
  },
  "microsoft": {
   "host": {
    "AzureML": {
     "notebookHasBeenCompleted": true
    }
   }
  },
  "nteract": {
   "version": "nteract-front-end@1.0.0"
  }
 },
 "nbformat": 4,
 "nbformat_minor": 2
}
